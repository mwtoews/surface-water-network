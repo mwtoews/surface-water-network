{
 "cells": [
  {
   "cell_type": "markdown",
   "id": "liable-sheriff",
   "metadata": {},
   "source": [
    "Step 1: build a surface water network. You can \"pickle\" this, so it doesn't need to be repeated.\n",
    "\n",
    "n = swn.SurfaceWaterNetwork.from_lines(gdf.geometry)\n",
    "\n",
    "n.to_pickle(\"surface-water-network.pkl\")\n",
    "\n",
    "# then in a later session, skip the above and just do:\n",
    "\n",
    "n = swn.SurfaceWaterNetwork.from_pickle(\"surface-water-network.pkl\")\n",
    "\n",
    "Step 2: load a MF6 model, then find the intersections:\n",
    "\n",
    "sim = flopy.mf6.MFSimulation.load(...)\n",
    "\n",
    "m = sim.get_model(...)\n",
    "\n",
    "nm = swn.SwnMf6.from_swn_flopy(n, m)\n",
    "\n",
    "Most of the results will be in the nm.reaches property, but other reach datasets will need to be specified, including \"man\", \"rbth\", \"rgrd\", \"rhk\", \"rtp\", and \"rwid\". There are two methods to format the PACKAGEDATA:\n",
    "\n",
    "nm.flopy_packagedata\n",
    "\n",
    "nm.write_packagedata(\"packagedata.dat\")\n",
    "\n",
    "Similar with CONNECTIONDATA:\n",
    "\n",
    "nm.flopy_connectiondata\n",
    "\n",
    "nm.write_connectiondata(\"connectiondata.dat\")\n",
    "\n",
    "There are a few \"helper\" methods to sort out things like \"set_reach_slope\" based on a few methods. One missing one is \"set_reach_elevation\" or whatever to make the reaches fit in the layer and/or move the layer elevations to fit the stream.\n",
    "\n",
    "And lastly, there is no PERIOD data yet. I'm working on this, which is holding up the merge.\n"
   ]
  },
  {
   "cell_type": "code",
   "execution_count": null,
   "id": "exciting-alaska",
   "metadata": {},
   "outputs": [],
   "source": [
    "import geopandas\n",
    "import os\n",
    "import swn\n",
    "import flopy\n",
    "import numpy as np\n",
    "import time"
   ]
  },
  {
   "cell_type": "markdown",
   "id": "established-invention",
   "metadata": {},
   "source": [
    "# SW network pickle"
   ]
  },
  {
   "cell_type": "markdown",
   "id": "hungarian-football",
   "metadata": {},
   "source": [
    "#only do this once... takes forever... then load pickle\n",
    "gdb_dir = 'D:\\modelling\\data'\n",
    "gdb_fname = 'nzRec2_v5.gdb'\n",
    "gdb_path = os.path.join(gdb_dir, gdb_fname)\n",
    "# Read national data of streams\n",
    "gdf_lines = geopandas.read_file(gdb_path, layer='riverlines')\n",
    "gdf_lines.set_index('nzsegment', inplace=True, verify_integrity=True)\n",
    "gdf_ws = geopandas.read_file(gdb_path, layer='rec2ws')\n",
    "gdf_ws.set_index('nzsegment', inplace=True, verify_integrity=True)\n",
    "# Convert MultiLineString -> LineString\n",
    "lines = gdf_lines.geometry.apply(lambda x: x.geoms[0]) #what is geoms[0]\n",
    "polygons = gdf_ws.geometry.apply(lambda x: x.geoms[0])\n",
    "#ni_lines = gdf_lines.loc[gdf_lines.index < 10000000, \"geometry\"]\n",
    "# requires reindex otherwise failure in core.from_lines\n",
    "t0=time.time()\n",
    "n = swn.SurfaceWaterNetwork.from_lines(lines,polygons.reindex(index=lines.index))\n",
    "print(time.time()-t0)\n",
    "n.to_pickle(\"surface-water-network.pkl\")"
   ]
  },
  {
   "cell_type": "markdown",
   "id": "civic-porcelain",
   "metadata": {},
   "source": [
    "# get the pickle"
   ]
  },
  {
   "cell_type": "code",
   "execution_count": null,
   "id": "assured-likelihood",
   "metadata": {},
   "outputs": [],
   "source": [
    "n = swn.SurfaceWaterNetwork.from_pickle(\"surface-water-network.pkl\")"
   ]
  },
  {
   "cell_type": "markdown",
   "id": "established-marijuana",
   "metadata": {},
   "source": [
    "# Load MF6 model"
   ]
  },
  {
   "cell_type": "code",
   "execution_count": null,
   "id": "olive-member",
   "metadata": {},
   "outputs": [],
   "source": [
    "os.getcwd()"
   ]
  },
  {
   "cell_type": "code",
   "execution_count": null,
   "id": "billion-builder",
   "metadata": {},
   "outputs": [],
   "source": [
    "sim_ws=os.path.join('..','zmodels','20210621_simulation','wairau')\n",
    "model_name='wairau'\n",
    "sim=flopy.mf6.MFSimulation.load(sim_ws=sim_ws)\n",
    "gwf=sim.get_model(model_name)"
   ]
  },
  {
   "cell_type": "markdown",
   "id": "about-ministry",
   "metadata": {},
   "source": [
    "## spatial reference for model"
   ]
  },
  {
   "cell_type": "code",
   "execution_count": null,
   "id": "cooked-duplicate",
   "metadata": {},
   "outputs": [],
   "source": [
    "#sr=flopy.utils.reference.SpatialReference.from_gridspec(os.path.join(sim_ws,model_name+'.grid.spc'))\n",
    "#gwf.dis.xorigin=sr.xul\n",
    "#gwf.dis.yorigin=sr.yul-np.sum(gwf.dis.delr.data)\n",
    "#gwf.dis.write()"
   ]
  },
  {
   "cell_type": "code",
   "execution_count": null,
   "id": "relevant-pilot",
   "metadata": {},
   "outputs": [],
   "source": [
    "# this also takes forever\n",
    "t0=time.time()\n",
    "ngwf = swn.SwnMf6.from_swn_flopy(n, gwf)\n",
    "print(time.time()-t0)"
   ]
  },
  {
   "cell_type": "code",
   "execution_count": null,
   "id": "continent-master",
   "metadata": {},
   "outputs": [],
   "source": [
    "# https://modflow6.readthedocs.io/en/latest/_mf6io/gwf-sfr.html?highlight=ustrf#block-packagedata\n",
    "# started from sagehen example, tweaked\n",
    "# can do ngwf.default_packagedata() now?\n",
    "d={'rwid':10.0,'rbth':1.0,'man':0.04,'ustrf':1.0,'ndv': 0}\n",
    "for k in [\"man\", \"rbth\", \"rwid\"]:\n",
    "    ngwf.reaches[k]=d[k]"
   ]
  },
  {
   "cell_type": "markdown",
   "id": "acknowledged-dairy",
   "metadata": {},
   "source": [
    "# was taking much time to fail with no zcoord, now takes 1.2 sec\n",
    "t0=time.time()\n",
    "#zcoord_ab or grid_top\n",
    "try:\n",
    "    ngwf.set_reach_slope(method='zcoord_ab')\n",
    "except:\n",
    "    print(time.time()-t0)\n"
   ]
  },
  {
   "cell_type": "code",
   "execution_count": null,
   "id": "periodic-southwest",
   "metadata": {},
   "outputs": [],
   "source": [
    "# check for nans, should have been fixed, taken care of\n",
    "ngwf.set_reach_slope(method='grid_top')"
   ]
  },
  {
   "cell_type": "code",
   "execution_count": null,
   "id": "relevant-divide",
   "metadata": {},
   "outputs": [],
   "source": [
    "ngwf.set_reach_data_from_array('rtp',gwf.dis.top.array)"
   ]
  },
  {
   "cell_type": "code",
   "execution_count": null,
   "id": "danish-front",
   "metadata": {},
   "outputs": [],
   "source": [
    "ngwf.set_reach_data_from_array('rhk',gwf.npf.k.array[0])"
   ]
  },
  {
   "cell_type": "code",
   "execution_count": null,
   "id": "criminal-assembly",
   "metadata": {},
   "outputs": [],
   "source": [
    "ngwf.reaches"
   ]
  },
  {
   "cell_type": "code",
   "execution_count": null,
   "id": "guilty-eugene",
   "metadata": {},
   "outputs": [],
   "source": [
    "n.segments"
   ]
  },
  {
   "cell_type": "code",
   "execution_count": null,
   "id": "national-victor",
   "metadata": {},
   "outputs": [],
   "source": [
    "n.segments.to_csv(os.path.join(sim_ws,'znseg_mf6rch.csv'))"
   ]
  },
  {
   "cell_type": "code",
   "execution_count": null,
   "id": "welsh-princess",
   "metadata": {},
   "outputs": [],
   "source": [
    "mask=[s for s in n.segments.index if (len(n.segments.loc[s,'from_segnums'])==0) & (n.segments.loc[s,'to_segnum']==0)]"
   ]
  },
  {
   "cell_type": "code",
   "execution_count": null,
   "id": "appointed-leeds",
   "metadata": {},
   "outputs": [],
   "source": [
    "len(mask)"
   ]
  },
  {
   "cell_type": "code",
   "execution_count": null,
   "id": "regular-juvenile",
   "metadata": {},
   "outputs": [],
   "source": [
    "n.segments.drop(mask,inplace=True)"
   ]
  },
  {
   "cell_type": "code",
   "execution_count": null,
   "id": "polished-finance",
   "metadata": {},
   "outputs": [],
   "source": [
    "len(n.segments)"
   ]
  },
  {
   "cell_type": "code",
   "execution_count": null,
   "id": "controlling-litigation",
   "metadata": {},
   "outputs": [],
   "source": [
    "help(n.remove)"
   ]
  },
  {
   "cell_type": "code",
   "execution_count": null,
   "id": "quantitative-evening",
   "metadata": {},
   "outputs": [],
   "source": [
    "\n",
    "\n",
    "# There are two methods to format the PACKAGEDATA:\n",
    "ngwf.flopy_packagedata\n",
    "ngwf.write_packagedata(os.path.join(sim_ws,model_name+'.sfr.reach.dat'))\n",
    "\n",
    "#Similar with CONNECTIONDATA:\n",
    "ngwf.flopy_connectiondata\n",
    "ngwf.write_connectiondata(os.path.join(sim_ws,model_name+'.sfr.connection.dat'))\n"
   ]
  },
  {
   "cell_type": "code",
   "execution_count": 21,
   "id": "southwest-weather",
   "metadata": {},
   "outputs": [
    {
     "ename": "NameError",
     "evalue": "name 'gwfname' is not defined",
     "output_type": "error",
     "traceback": [
      "\u001b[1;31m---------------------------------------------------------------------------\u001b[0m",
      "\u001b[1;31mNameError\u001b[0m                                 Traceback (most recent call last)",
      "\u001b[1;32m<ipython-input-21-b18fc644f053>\u001b[0m in \u001b[0;36m<module>\u001b[1;34m\u001b[0m\n\u001b[0;32m      1\u001b[0m sfr=flopy.mf6.ModflowGwfsfr(gwf,packagedata={'filename':model_name+'.sfr.reach.dat'},\n\u001b[0;32m      2\u001b[0m                             \u001b[0mconnectiondata\u001b[0m\u001b[1;33m=\u001b[0m\u001b[1;33m{\u001b[0m\u001b[1;34m'filename'\u001b[0m\u001b[1;33m:\u001b[0m\u001b[0mmodel_name\u001b[0m\u001b[1;33m+\u001b[0m\u001b[1;34m'.sfr.connection.dat'\u001b[0m\u001b[1;33m}\u001b[0m\u001b[1;33m,\u001b[0m\u001b[1;33m\u001b[0m\u001b[1;33m\u001b[0m\u001b[0m\n\u001b[1;32m----> 3\u001b[1;33m                            \u001b[0mnreaches\u001b[0m\u001b[1;33m=\u001b[0m\u001b[0mlen\u001b[0m\u001b[1;33m(\u001b[0m\u001b[0mngwf\u001b[0m\u001b[1;33m.\u001b[0m\u001b[0mreaches\u001b[0m\u001b[1;33m)\u001b[0m\u001b[1;33m,\u001b[0m\u001b[0mbudget_filerecord\u001b[0m\u001b[1;33m=\u001b[0m\u001b[0mgwfname\u001b[0m \u001b[1;33m+\u001b[0m \u001b[1;34m\".sfr.bud\"\u001b[0m\u001b[1;33m,\u001b[0m\u001b[1;33m\u001b[0m\u001b[1;33m\u001b[0m\u001b[0m\n\u001b[0m\u001b[0;32m      4\u001b[0m                             save_flows=True)\n\u001b[0;32m      5\u001b[0m \u001b[1;31m#gwf.register_package(sfr)\u001b[0m\u001b[1;33m\u001b[0m\u001b[1;33m\u001b[0m\u001b[1;33m\u001b[0m\u001b[0m\n",
      "\u001b[1;31mNameError\u001b[0m: name 'gwfname' is not defined"
     ]
    }
   ],
   "source": [
    "sfr=flopy.mf6.ModflowGwfsfr(gwf,packagedata={'filename':model_name+'.sfr.reach.dat'},\n",
    "                            connectiondata={'filename':model_name+'.sfr.connection.dat'},\n",
    "                           nreaches=len(ngwf.reaches),budget_filerecord=model_name + \"_sfr.bud\",\n",
    "                            save_flows=True)\n",
    "#gwf.register_package(sfr)\n",
    "sfr.write()"
   ]
  },
  {
   "cell_type": "code",
   "execution_count": null,
   "id": "informational-celebrity",
   "metadata": {},
   "outputs": [],
   "source": []
  },
  {
   "cell_type": "code",
   "execution_count": null,
   "id": "twenty-board",
   "metadata": {},
   "outputs": [],
   "source": []
  },
  {
   "cell_type": "code",
   "execution_count": null,
   "id": "southern-commodity",
   "metadata": {},
   "outputs": [],
   "source": []
  },
  {
   "cell_type": "code",
   "execution_count": null,
   "id": "naval-michael",
   "metadata": {},
   "outputs": [],
   "source": [
    "gwf.write()"
   ]
  },
  {
   "cell_type": "code",
   "execution_count": null,
   "id": "surprised-regular",
   "metadata": {
    "scrolled": true
   },
   "outputs": [],
   "source": [
    "help(ngwf)"
   ]
  },
  {
   "cell_type": "code",
   "execution_count": null,
   "id": "composite-washington",
   "metadata": {},
   "outputs": [],
   "source": []
  },
  {
   "cell_type": "markdown",
   "id": "alike-warrant",
   "metadata": {},
   "source": [
    "# write shapefile, but not sfr info from grid intersection"
   ]
  },
  {
   "cell_type": "code",
   "execution_count": null,
   "id": "brief-officer",
   "metadata": {},
   "outputs": [],
   "source": [
    "swn.file.gdf_to_shapefile(n.segments, 'segments.shp')"
   ]
  }
 ],
 "metadata": {
  "kernelspec": {
   "display_name": "Python 3",
   "language": "python",
   "name": "python3"
  },
  "language_info": {
   "codemirror_mode": {
    "name": "ipython",
    "version": 3
   },
   "file_extension": ".py",
   "mimetype": "text/x-python",
   "name": "python",
   "nbconvert_exporter": "python",
   "pygments_lexer": "ipython3",
   "version": "3.7.9"
  }
 },
 "nbformat": 4,
 "nbformat_minor": 5
}
