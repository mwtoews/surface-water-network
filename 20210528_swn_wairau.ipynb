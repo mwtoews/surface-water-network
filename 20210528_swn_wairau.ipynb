{
 "cells": [
  {
   "cell_type": "markdown",
   "id": "liable-sheriff",
   "metadata": {},
   "source": [
    "Step 1: build a surface water network. You can \"pickle\" this, so it doesn't need to be repeated.\n",
    "\n",
    "n = swn.SurfaceWaterNetwork.from_lines(gdf.geometry)\n",
    "\n",
    "n.to_pickle(\"surface-water-network.pkl\")\n",
    "\n",
    "# then in a later session, skip the above and just do:\n",
    "\n",
    "n = swn.SurfaceWaterNetwork.from_pickle(\"surface-water-network.pkl\")\n",
    "\n",
    "Step 2: load a MF6 model, then find the intersections:\n",
    "\n",
    "sim = flopy.mf6.MFSimulation.load(...)\n",
    "\n",
    "m = sim.get_model(...)\n",
    "\n",
    "nm = swn.SwnMf6.from_swn_flopy(n, m)\n",
    "\n",
    "Most of the results will be in the nm.reaches property, but other reach datasets will need to be specified, including \"man\", \"rbth\", \"rgrd\", \"rhk\", \"rtp\", and \"rwid\". There are two methods to format the PACKAGEDATA:\n",
    "\n",
    "nm.flopy_packagedata\n",
    "\n",
    "nm.write_packagedata(\"packagedata.dat\")\n",
    "\n",
    "Similar with CONNECTIONDATA:\n",
    "\n",
    "nm.flopy_connectiondata\n",
    "\n",
    "nm.write_connectiondata(\"connectiondata.dat\")\n",
    "\n",
    "There are a few \"helper\" methods to sort out things like \"set_reach_slope\" based on a few methods. One missing one is \"set_reach_elevation\" or whatever to make the reaches fit in the layer and/or move the layer elevations to fit the stream.\n",
    "\n",
    "And lastly, there is no PERIOD data yet. I'm working on this, which is holding up the merge.\n"
   ]
  },
  {
   "cell_type": "code",
   "execution_count": 1,
   "id": "exciting-alaska",
   "metadata": {},
   "outputs": [],
   "source": [
    "import geopandas\n",
    "import os\n",
    "import swn\n",
    "import flopy\n",
    "import numpy as np\n",
    "import time"
   ]
  },
  {
   "cell_type": "markdown",
   "id": "established-invention",
   "metadata": {},
   "source": [
    "# SW network pickle"
   ]
  },
  {
   "cell_type": "markdown",
   "id": "hungarian-football",
   "metadata": {},
   "source": [
    "#only do this once... takes forever... then load pickle\n",
    "gdb_dir = 'D:\\modelling\\data'\n",
    "gdb_fname = 'nzRec2_v5.gdb'\n",
    "gdb_path = os.path.join(gdb_dir, gdb_fname)\n",
    "# Read national data of streams\n",
    "gdf_lines = geopandas.read_file(gdb_path, layer='riverlines')\n",
    "gdf_lines.set_index('nzsegment', inplace=True, verify_integrity=True)\n",
    "gdf_ws = geopandas.read_file(gdb_path, layer='rec2ws')\n",
    "gdf_ws.set_index('nzsegment', inplace=True, verify_integrity=True)\n",
    "# Convert MultiLineString -> LineString\n",
    "lines = gdf_lines.geometry.apply(lambda x: x.geoms[0]) #what is geoms[0]\n",
    "polygons = gdf_ws.geometry.apply(lambda x: x.geoms[0])\n",
    "#ni_lines = gdf_lines.loc[gdf_lines.index < 10000000, \"geometry\"]\n",
    "# requires reindex otherwise failure in core.from_lines\n",
    "t0=time.time()\n",
    "n = swn.SurfaceWaterNetwork.from_lines(lines,polygons.reindex(index=lines.index))\n",
    "print(time.time()-t0)\n",
    "n.to_pickle(\"surface-water-network.pkl\")"
   ]
  },
  {
   "cell_type": "markdown",
   "id": "civic-porcelain",
   "metadata": {},
   "source": [
    "# get the pickle"
   ]
  },
  {
   "cell_type": "code",
   "execution_count": 2,
   "id": "assured-likelihood",
   "metadata": {},
   "outputs": [],
   "source": [
    "n = swn.SurfaceWaterNetwork.from_pickle(\"surface-water-network.pkl\")"
   ]
  },
  {
   "cell_type": "markdown",
   "id": "established-marijuana",
   "metadata": {},
   "source": [
    "# Load MF6 model"
   ]
  },
  {
   "cell_type": "code",
   "execution_count": 3,
   "id": "olive-member",
   "metadata": {},
   "outputs": [
    {
     "data": {
      "text/plain": [
       "'D:\\\\modelling\\\\surface-water-network'"
      ]
     },
     "execution_count": 3,
     "metadata": {},
     "output_type": "execute_result"
    }
   ],
   "source": [
    "os.getcwd()"
   ]
  },
  {
   "cell_type": "code",
   "execution_count": 4,
   "id": "billion-builder",
   "metadata": {},
   "outputs": [
    {
     "name": "stdout",
     "output_type": "stream",
     "text": [
      "loading simulation...\n",
      "  loading simulation name file...\n",
      "  loading tdis package...\n",
      "  loading model gwf6...\n",
      "    loading package dis...\n",
      "    loading package ic...\n",
      "    loading package ghb...\n",
      "    loading package rch...\n",
      "    loading package drn...\n",
      "    loading package npf...\n",
      "    loading package sto...\n",
      "    loading package oc...\n",
      "  loading ims package wairau_240_3...\n"
     ]
    }
   ],
   "source": [
    "sim_ws=os.path.join('..','zmodels','20210622_simulation','wairau_240_3')\n",
    "model_name='wairau_240_3'\n",
    "sim=flopy.mf6.MFSimulation.load(sim_ws=sim_ws)\n",
    "gwf=sim.get_model(model_name)"
   ]
  },
  {
   "cell_type": "markdown",
   "id": "about-ministry",
   "metadata": {},
   "source": [
    "## spatial reference for model"
   ]
  },
  {
   "cell_type": "code",
   "execution_count": 5,
   "id": "cooked-duplicate",
   "metadata": {},
   "outputs": [],
   "source": [
    "#sr=flopy.utils.reference.SpatialReference.from_gridspec(os.path.join(sim_ws,model_name+'.grid.spc'))\n",
    "#gwf.dis.xorigin=sr.xul\n",
    "#gwf.dis.yorigin=sr.yul-np.sum(gwf.dis.delr.data)\n",
    "#gwf.dis.write()"
   ]
  },
  {
   "cell_type": "code",
   "execution_count": 6,
   "id": "dominant-happening",
   "metadata": {},
   "outputs": [
    {
     "data": {
      "text/plain": [
       "flopy.mf6.mfmodel.MFModel"
      ]
     },
     "execution_count": 6,
     "metadata": {},
     "output_type": "execute_result"
    }
   ],
   "source": [
    "type(gwf)"
   ]
  },
  {
   "cell_type": "code",
   "execution_count": 7,
   "id": "relevant-pilot",
   "metadata": {
    "scrolled": true
   },
   "outputs": [
    {
     "name": "stdout",
     "output_type": "stream",
     "text": [
      "15:48:28.584:WARNING:SwnMf6:failed to merge segnum 11018756 at (36, 456): MULTILINESTRING ((1686011.163437578 5419920, 1686005.0497 5419913.8872, 1685920 5419913.893816454, 1685915.0698 5419913.8942), (1686200.0061 5419913.872, 1686160 5419913.875112284, 1686155.0162 5419913.8755, 1686148.892659643 5419920))\n",
      "15:48:33.826:WARNING:SwnMf6:failed to merge segnum 11020068 at (50, 455): MULTILINESTRING ((1685680 5416399.543781261, 1685759.530389482 5416320, 1685764.8128 5416314.7167, 1685794.8061 5416314.7142), (1685689.8462 5416509.6788, 1685680 5416499.834263151))\n",
      "15:48:38.701:WARNING:SwnMf6:failed to merge segnum 11021078 at (61, 424): MULTILINESTRING ((1678221.3706 5413855.9237, 1678240 5413855.922126469, 1678266.3597 5413855.9199, 1678296.355 5413885.9102, 1678326.3478 5413885.9077, 1678360.445840736 5413920), (1678412.222198316 5413920, 1678416.3286 5413915.8929))\n",
      "15:48:40.060:WARNING:SwnMf6:failed to merge segnum 11020969 at (62, 409): MULTILINESTRING ((1674693.515613634 5413440, 1674667.2061 5413466.3139, 1674640 5413466.316077025, 1674637.2135 5413466.3163), (1674753.456311853 5413680, 1674817.1814 5413616.2645, 1674787.1863 5413586.2743, 1674787.174205 5413440))\n",
      "15:48:45.017:WARNING:SwnMf6:failed to merge segnum 11021951 at (71, 331): MULTILINESTRING ((1656160 5411306.463097256, 1656133.532755379 5411280, 1656131.903 5411278.3705), (1656160 5411516.388399826, 1656131.9194 5411488.3122, 1656131.9147 5411428.3289, 1656160 5411400.239292066))\n",
      "15:48:46.009:WARNING:SwnMf6:failed to merge segnum 11021979 at (71, 299): MULTILINESTRING ((1648240 5411433.088537089, 1648274.1424 5411398.9409, 1648274.1379 5411338.9583, 1648333.087197115 5411280), (1648241.534382615 5411521.534614904, 1648243.068765231 5411520, 1648244.1602 5411518.9084, 1648240 5411514.748838034))\n",
      "15:48:54.645:WARNING:SwnMf6:failed to merge segnum 11023151 at (82, 358): MULTILINESTRING ((1662548.505040593 5408640, 1662429.9762 5408758.5488, 1662400 5408758.551298692), (1662654.9094 5408683.55, 1662640 5408668.643118496, 1662611.352042289 5408640))\n",
      "15:48:58.702:WARNING:SwnMf6:failed to merge segnum 11023448 at (86, 349): MULTILINESTRING ((1660225.5014 5407903.9665, 1660240 5407918.462650885, 1660241.537608849 5407920), (1660359.417078364 5407920, 1660360.4659 5407918.951, 1660390.4577 5407918.9485, 1660420.447 5407888.9541, 1660450.4388 5407888.9516, 1660480 5407859.385372801))\n",
      "15:48:59.064:WARNING:SwnMf6:failed to merge segnum 11023411 at (87, 273): MULTILINESTRING ((1642000 5407626.238392428, 1642005.6942 5407620.5433, 1642005.6917 5407590.5522, 1642095.6576 5407500.572), (1642005.699 5407680.5253, 1642005.173614169 5407680, 1642000 5407674.827231038))\n",
      "15:48:59.378:WARNING:SwnMf6:failed to merge segnum 11023626 at (87, 416): MULTILINESTRING ((1676436.2415 5407467.643, 1676463.879339182 5407440), (1676528.574932447 5407440, 1676556.2118 5407467.6318, 1676560 5407467.631446347, 1676586.2044 5407467.629))\n",
      "15:49:04.320:WARNING:SwnMf6:failed to merge segnum 11023902 at (91, 229): MULTILINESTRING ((1631440 5406520.575715324, 1631448.8423 5406511.732, 1631440 5406502.891115098), (1631478.8534 5406766.6496, 1631478.8498 5406721.6637, 1631477.185833703 5406720, 1631440 5406682.820117419))\n",
      "15:49:05.455:WARNING:SwnMf6:failed to merge segnum 11024118 at (93, 350): MULTILINESTRING ((1660675.2369 5406254.3779, 1660689.612275414 5406240, 1660720 5406209.606938759), (1660720 5406149.187237343, 1660690.221 5406119.4134, 1660720 5406089.629137148))\n",
      "15:49:13.802:WARNING:SwnMf6:failed to merge segnum 11024958 at (102, 227): MULTILINESTRING ((1630953.7939 5404037.5499, 1630960 5404043.754951619, 1630996.251172203 5404080), (1631061.291278736 5404080, 1631088.7528 5404052.5339))\n",
      "15:49:20.832:WARNING:SwnMf6:failed to merge segnum 11025329 at (107, 466): MULTILINESTRING ((1688560 5402757.546823856, 1688552.8647 5402757.5476, 1688522.8684 5402727.5579, 1688432.8892 5402727.5677, 1688402.8929 5402697.5779, 1688372.8998 5402697.5811, 1688342.9035 5402667.5914, 1688320 5402667.593894513), (1688320 5402817.559121248, 1688402.9059 5402817.5501, 1688432.9023 5402847.5399, 1688462.8953 5402847.5366, 1688492.8916 5402877.5264, 1688522.8847 5402877.5232, 1688525.362036823 5402880, 1688552.881 5402907.513))\n",
      "15:49:40.534:WARNING:SwnMf6:failed to merge segnum 11026752 at (119, 314): MULTILINESTRING ((1651874.111821105 5399760, 1651872.1184 5399761.9938), (1652112.0494 5399761.9714, 1652080 5399761.974392135, 1652022.0752 5399761.9798, 1652020.095030297 5399760))\n",
      "15:49:42.126:WARNING:SwnMf6:failed to merge segnum 11026765 at (120, 444): MULTILINESTRING ((1683273.756 5399488.9007, 1683273.7593 5399518.8934, 1683274.866143538 5399520, 1683280 5399525.132726863), (1683280 5399572.643407226, 1683273.7659 5399578.8789, 1683273.7692 5399608.8716, 1683243.7798 5399638.8677, 1683243.7864 5399698.8532, 1683273.7824 5399728.8426, 1683273.7857 5399758.8353))\n",
      "15:49:42.357:WARNING:SwnMf6:failed to merge segnum 11026365 at (116, 396): MULTILINESTRING ((1671546.692422228 5400480, 1671520 5400506.697851641), (1671520 5400573.051153014, 1671546.8139 5400599.8596, 1671546.8229 5400689.8363, 1671576.992685204 5400720, 1671606.8134 5400749.8147))\n",
      "15:49:45.514:WARNING:SwnMf6:failed to merge segnum 11026906 at (124, 313): MULTILINESTRING ((1651587.1003 5398697.3273, 1651600 5398710.224557185, 1651662.0858 5398772.2986, 1651662.088386214 5398800), (1651724.355173515 5398800, 1651752.0599 5398772.2901, 1651782.0512 5398772.2872, 1651809.769175023 5398800))\n",
      "15:49:47.593:WARNING:SwnMf6:failed to merge segnum 11026543 at (117, 425): MULTILINESTRING ((1678594.208163341 5400240, 1678564.9963 5400269.218, 1678535.0038 5400269.2212, 1678535.0102 5400329.2062, 1678505.0208 5400359.2019, 1678505.024 5400389.1945, 1678480 5400414.223756897), (1678732.07748334 5400252.080020508, 1678720 5400264.160041016, 1678714.959 5400269.2021, 1678684.9665 5400269.2053, 1678655.755016017 5400240))\n",
      "15:49:50.962:WARNING:SwnMf6:failed to merge segnum 11027194 at (127, 407): MULTILINESTRING ((1674260.8251 5397825.2937, 1674275.534538482 5397840, 1674335.8139 5397900.2665, 1674335.8171 5397930.2588, 1674400 5397994.428005594), (1674400 5398076.030707452, 1674396.031554361 5398080))\n",
      "15:49:56.472:WARNING:SwnMf6:failed to merge segnum 11028175 at (134, 356): MULTILINESTRING ((1662070.906422308 5396160, 1662008.9194 5396221.9997, 1661948.9359 5396222.0059, 1661920 5396250.94768585, 1661918.9472 5396252.0007, 1661918.9503 5396281.9924), (1662188.8637 5396161.9978, 1662160 5396162.000783408, 1662158.872 5396162.0009, 1662156.870692997 5396160))\n",
      "15:50:02.030:WARNING:SwnMf6:failed to merge segnum 11027600 at (128, 285): MULTILINESTRING ((1644947.217966668 5397600, 1644943.9434 5397603.2752, 1644913.9523 5397603.278, 1644880 5397637.236696855, 1644853.9758 5397663.2658), (1645067.170885193 5397600, 1645063.9077 5397603.2638, 1645060.643279634 5397600))\n",
      "15:50:03.278:WARNING:SwnMf6:failed to merge segnum 11027906 at (132, 315): MULTILINESTRING ((1652320 5396824.505836115, 1652291.72 5396852.7914, 1652291.722630928 5396880, 1652291.7229 5396882.7827), (1652320 5396704.528633813, 1652291.7083 5396732.8259, 1652291.7112 5396762.8173, 1652320 5396791.100535479))\n",
      "15:50:04.992:WARNING:SwnMf6:failed to merge segnum 11028186 at (135, 260): MULTILINESTRING ((1639065.555780609 5395920, 1639065.5562 5395924.3372, 1639120 5395978.770653505), (1639120 5396079.838955321, 1639095.5641 5396104.2795, 1639095.569395071 5396160, 1639095.5698 5396164.2611))\n",
      "15:50:14.316:WARNING:SwnMf6:failed to merge segnum 11028384 at (141, 260): MULTILINESTRING ((1639095.408538385 5394480, 1639095.4119 5394514.7647, 1639120 5394539.348127279), (1639120 5394610.146846626, 1639095.4235 5394634.7281, 1639095.43174547 5394720, 1639095.4322 5394724.7006))\n",
      "15:50:15.351:WARNING:SwnMf6:failed to merge segnum 11028041 at (143, 467): MULTILINESTRING ((1688581.8359 5393954.6107, 1688581.841464423 5394000, 1688581.8598 5394149.5643, 1688560 5394171.429494044), (1688560 5394217.677368345, 1688581.8709 5394239.5428, 1688581.87095583 5394240))\n",
      "15:50:16.082:WARNING:SwnMf6:failed to merge segnum 11028866 at (142, 222): MULTILINESTRING ((1629738.3163 5394455.6818, 1629760 5394455.679703245, 1629768.3068 5394455.6789, 1629792.632522905 5394480), (1629983.891616961 5394480, 1630000 5394463.888528249))\n"
     ]
    },
    {
     "name": "stdout",
     "output_type": "stream",
     "text": [
      "15:50:17.684:WARNING:SwnMf6:failed to merge segnum 11028594 at (145, 266): MULTILINESTRING ((1640414.9104 5393494.9469, 1640414.912822535 5393520, 1640414.9162 5393554.9287, 1640320 5393649.863574369), (1640320 5393759.910376494, 1640320.089641139 5393760))\n",
      "15:50:20.059:WARNING:SwnMf6:failed to merge segnum 11028827 at (147, 376): MULTILINESTRING ((1666942.2461 5393117.3249, 1666960 5393135.074972427), (1666960 5393192.302706609, 1666957.2502 5393192.303, 1666957.259751797 5393280, 1666957.26 5393282.2788))\n",
      "15:50:20.414:WARNING:SwnMf6:failed to merge segnum 11029270 at (146, 460): MULTILINESTRING ((1686932.148620711 5393280, 1686932.1523 5393309.9678, 1686880 5393362.132881958), (1686880 5393407.773780726, 1686992.253762132 5393520, 1687022.16 5393549.8989))\n",
      "15:50:21.743:WARNING:SwnMf6:failed to merge segnum 11029467 at (148, 225): MULTILINESTRING ((1630720 5392993.914177159, 1630673.923127443 5393040, 1630667.8867 5393046.0376, 1630667.8896 5393076.0282), (1630712.8506 5392821.1042, 1630720 5392828.252207948))\n",
      "15:50:24.787:WARNING:SwnMf6:failed to merge segnum 11029468 at (148, 326): MULTILINESTRING ((1654707.14635866 5393027.143715495, 1654720 5393014.28743099, 1654720.637 5393013.6503, 1654750.6284 5393013.6472, 1654776.98664837 5393040), (1654874.222550448 5393040, 1654900.5854 5393013.6317, 1654960 5393013.625558736))\n",
      "15:50:31.592:WARNING:SwnMf6:failed to merge segnum 11029641 at (150, 236): MULTILINESTRING ((1633253.016717458 5392320, 1633217.0186 5392356.0052, 1633187.0279 5392356.0082, 1633157.0403 5392386.0017, 1633127.0496 5392386.0047, 1633120 5392393.055686994), (1633120 5392468.919412001, 1633127.0585 5392475.9765, 1633127.066694852 5392560, 1633127.0702 5392595.939))\n",
      "15:50:34.428:WARNING:SwnMf6:failed to merge segnum 11030289 at (157, 414): MULTILINESTRING ((1675834.6321 5390821.9241, 1675840 5390827.290729419, 1675864.6279 5390851.9128, 1675954.6046 5390851.9021, 1675984.5933 5390821.9064, 1675984.5862 5390761.9219, 1676014.5749 5390731.9262, 1676074.5593 5390731.9191, 1676080 5390737.358512187), (1676080 5390786.468631682, 1676074.5664 5390791.9035, 1676074.5735 5390851.888, 1676080 5390857.313215549))\n",
      "15:50:38.839:WARNING:SwnMf6:failed to merge segnum 11029681 at (151, 235): MULTILINESTRING ((1632893.216116138 5392080, 1632887.0952 5392086.1221, 1632887.1041 5392176.094, 1632880 5392183.199474023), (1632880 5392258.954275458, 1632887.1129 5392266.0658, 1632887.118235165 5392320, 1632887.1218 5392356.0376))\n",
      "15:50:39.711:WARNING:SwnMf6:failed to merge segnum 11030377 at (159, 380): MULTILINESTRING ((1667691.835455471 5390148.167227654, 1667703.670910941 5390160, 1667706.7104 5390163.0388, 1667680 5390189.755256679), (1667680 5390346.2538607, 1667733.758326443 5390400))\n",
      "15:50:42.093:WARNING:SwnMf6:failed to merge segnum 11030692 at (161, 146): MULTILINESTRING ((1611722.675885091 5389920, 1611760 5389882.668292539), (1611760 5389825.225791361, 1611743.7318 5389808.9609, 1611743.7197 5389689.0011, 1611752.71896935 5389680, 1611756.359484675 5389676.358744113))\n",
      "15:50:43.974:WARNING:SwnMf6:failed to merge segnum 11031037 at (164, 203): MULTILINESTRING ((1625179.2314 5388967.8821, 1625200 5388967.880022472, 1625239.2121 5388967.8761, 1625247.086598174 5388960), (1625321.31459972 5388960, 1625329.1831 5388967.8669, 1625359.1735 5388967.8639, 1625440 5389048.674069444))\n",
      "15:50:44.818:WARNING:SwnMf6:failed to merge segnum 11030287 at (156, 346): MULTILINESTRING ((1659489.0585 5390883.7505, 1659519.0533 5390913.7389, 1659520 5390913.738795834, 1659549.0448 5390913.7356, 1659582.773145589 5390880), (1659639.015901563 5390880, 1659639.0163 5390883.7343, 1659729.0008 5390973.6993, 1659760 5390973.695923583))\n",
      "15:50:49.677:WARNING:SwnMf6:failed to merge segnum 11031303 at (167, 410): MULTILINESTRING ((1674931.946074678 5388480, 1674904.5922 5388452.6526, 1674880 5388477.250704382, 1674878.625682153 5388478.625352191), (1675120 5388357.175867556, 1675114.5263 5388362.6509, 1675114.5299 5388392.643, 1675027.194062793 5388480))\n",
      "15:50:51.868:WARNING:SwnMf6:failed to merge segnum 11031421 at (168, 304): MULTILINESTRING ((1649441.6403 5387975.6718, 1649441.642922815 5388000, 1649441.65 5388065.6452, 1649440 5388067.295557645), (1649440 5388153.959406892, 1649471.654 5388185.6066, 1649471.6573 5388215.5978))\n",
      "15:51:11.416:WARNING:SwnMf6:failed to merge segnum 11033216 at (185, 227): MULTILINESTRING ((1630960 5384101.952167956, 1630966.8796 5384108.8303, 1630996.8701 5384108.8271, 1631026.8638 5384138.8144, 1631056.8543 5384138.8112, 1631078.047622192 5384160), (1631125.631952599 5384160, 1631146.8259 5384138.8016, 1631200 5384138.795926299, 1631206.8069 5384138.7952))\n",
      "15:51:13.962:WARNING:SwnMf6:failed to merge segnum 11033244 at (185, 228): MULTILINESTRING ((1631326.7433 5383898.8582, 1631326.745573462 5383920, 1631326.7562 5384018.8203, 1631296.7688 5384048.814, 1631266.7783 5384048.8172, 1631236.791 5384078.811, 1631206.8005 5384078.8142, 1631200 5384085.616151388), (1631200 5384131.989752444, 1631206.8069 5384138.7952))\n",
      "15:51:16.741:WARNING:SwnMf6:failed to merge segnum 11033594 at (189, 170): MULTILINESTRING ((1617340.608743633 5383200, 1617321.1898 5383180.5852, 1617280 5383180.589595024), (1617520.28430766 5383199.715752532, 1617520 5383199.431505064, 1617501.1305 5383180.566, 1617481.700646846 5383200))\n",
      "15:51:20.271:WARNING:SwnMf6:failed to merge segnum 11033971 at (192, 128): MULTILINESTRING ((1607226.390260699 5382480, 1607244.4792 5382461.9072, 1607364.4386 5382461.8942, 1607382.548324676 5382480), (1607406.309925235 5382480, 1607440 5382446.302622457, 1607454.4049 5382431.8946))\n",
      "15:51:26.237:WARNING:SwnMf6:failed to merge segnum 11034402 at (195, 290): MULTILINESTRING ((1646051.9375 5381527.9687, 1646080 5381527.965518624, 1646111.9194 5381527.9619, 1646119.879494966 5381520), (1646253.927635173 5381520, 1646291.8687 5381557.9324, 1646320 5381557.929210824))\n",
      "15:51:29.399:WARNING:SwnMf6:failed to merge segnum 11034539 at (195, 362): MULTILINESTRING ((1663600 5381645.873310245, 1663596.8407 5381645.8737, 1663536.8649 5381705.8641, 1663506.8733 5381705.8678, 1663476.8854 5381735.863, 1663446.8938 5381735.8667, 1663422.766373376 5381760), (1663596.8224 5381495.9158, 1663596.825331065 5381520, 1663596.8297 5381555.899, 1663600 5381559.06851787))\n",
      "15:51:31.150:WARNING:SwnMf6:failed to merge segnum 11034748 at (198, 278): MULTILINESTRING ((1643344.17827414 5380800, 1643352.6731 5380808.4929, 1643352.6833 5380898.4655, 1643262.7208 5380988.4483, 1643262.726644309 5381040, 1643262.7276 5381048.43), (1643440 5380805.837599806, 1643434.161076454 5380800))\n",
      "15:51:33.050:WARNING:SwnMf6:failed to merge segnum 11034706 at (200, 199): MULTILINESTRING ((1624263.6134 5380315.7696, 1624259.383930887 5380320, 1624240 5380339.3881972), (1624240 5380442.096399687, 1624248.6331 5380450.7276, 1624248.6364 5380480.7179, 1624278.6299 5380510.705, 1624278.635324204 5380560))\n",
      "15:51:33.314:WARNING:SwnMf6:failed to merge segnum 11034819 at (200, 180): MULTILINESTRING ((1619731.353359341 5380320, 1619720.0937 5380331.2621, 1619690.1036 5380331.2654, 1619680 5380341.371223763, 1619660.1167 5380361.2589), (1619920 5380421.210837504, 1619870.0545 5380421.2163, 1619768.81600707 5380320))\n",
      "15:51:34.081:WARNING:SwnMf6:failed to merge segnum 11034839 at (200, 340): MULTILINESTRING ((1658101.425645116 5380560, 1658080 5380538.579533611), (1658318.1793 5380296.8975, 1658295.082384035 5380320, 1658258.2038 5380356.8875, 1658258.2074 5380386.8788, 1658198.2319 5380446.8688, 1658198.2391 5380506.8515, 1658145.103357788 5380560))\n",
      "15:51:34.866:WARNING:SwnMf6:failed to merge segnum 11034972 at (202, 288): MULTILINESTRING ((1645646.8658 5379833.5263, 1645640.393593545 5379840, 1645600 5379880.402914891), (1645600 5379966.596229592, 1645601.8949 5379968.4907, 1645601.907727449 5380080, 1645601.9087 5380088.4544))\n",
      "15:51:36.285:WARNING:SwnMf6:failed to merge segnum 11034950 at (201, 211): MULTILINESTRING ((1627120 5380248.163790965, 1627127.6829 5380240.4792, 1627127.6729 5380150.508, 1627120 5380142.836788398), (1627147.233800668 5380320, 1627120 5380292.772192038), (1627369.043968557 5380089.045965789, 1627360 5380098.091931579, 1627307.6153 5380150.4882, 1627307.6186 5380180.4786, 1627277.6315 5380210.4723, 1627247.6411 5380210.4756, 1627247.6444 5380240.466, 1627217.6573 5380270.4597, 1627217.6606 5380300.45, 1627198.114901903 5380320))\n"
     ]
    },
    {
     "name": "stdout",
     "output_type": "stream",
     "text": [
      "15:51:37.838:WARNING:SwnMf6:failed to merge segnum 11035340 at (204, 179): MULTILINESTRING ((1619660.0048 5379341.5929, 1619660.006825443 5379360, 1619660.0114 5379401.5733, 1619680 5379421.557501541), (1619680 5379531.547604204, 1619660.0279 5379551.5241))\n",
      "15:51:41.700:WARNING:SwnMf6:failed to merge segnum 11035803 at (207, 282): MULTILINESTRING ((1644231.208964622 5378640, 1644162.1861 5378709.0389), (1644432.097 5378649.0258, 1644402.1061 5378649.0293, 1644400 5378646.923684495, 1644393.074722389 5378640))\n",
      "15:51:46.927:WARNING:SwnMf6:failed to merge segnum 11036176 at (210, 168): MULTILINESTRING ((1616973.088640042 5377920, 1616960.7361 5377932.3553, 1616900.7559 5377932.362, 1616900.7659 5378022.3323), (1617050.7064 5377932.3453, 1617040 5377921.64132731, 1617038.358300491 5377920))\n",
      "15:51:50.103:WARNING:SwnMf6:failed to merge segnum 11036094 at (210, 334): MULTILINESTRING ((1656880 5378046.045915339, 1656788.3601 5378137.7082, 1656788.362812956 5378160, 1656788.3674 5378197.6908), (1656878.307284817 5377920, 1656878.3119 5377957.7496, 1656880 5377959.437283533))\n",
      "15:51:50.214:WARNING:SwnMf6:failed to merge segnum 11036414 at (213, 317): MULTILINESTRING ((1652597.968797516 5377200, 1652560 5377237.977977133), (1652560 5377358.944379846, 1652589.5011 5377388.4383, 1652589.5047 5377418.4294, 1652567.939349756 5377440, 1652563.969674878 5377443.970641235))\n",
      "15:51:52.022:WARNING:SwnMf6:failed to merge segnum 11036644 at (215, 129): MULTILINESTRING ((1607440 5376943.750656071, 1607453.7992 5376943.7491, 1607470.053785196 5376960), (1607557.498005726 5376960, 1607680 5376837.470389516, 1607693.7047 5376823.7626))\n",
      "15:52:00.797:WARNING:SwnMf6:failed to merge segnum 11037507 at (221, 149): MULTILINESTRING ((1612265.759580244 5375280, 1612252.0021 5375293.7606, 1612240 5375281.76126109, 1612239.119166819 5375280.880630545), (1612446.9405 5375323.7285, 1612401.9555 5375323.7336, 1612358.211982621 5375280))\n",
      "15:52:01.404:WARNING:SwnMf6:failed to merge segnum 11037239 at (221, 78): MULTILINESTRING ((1595200 5375283.515193975, 1595203.514385293 5375280), (1595292.061719409 5375280, 1595367.7502 5375355.6709, 1595367.7537 5375385.6606, 1595427.7399 5375445.6329, 1595427.748496512 5375520, 1595427.7503 5375535.6017))\n",
      "15:52:04.680:WARNING:SwnMf6:failed to merge segnum 11037804 at (224, 284): MULTILINESTRING ((1644640 5374601.789673311, 1644641.5548 5374600.2345, 1644641.5512 5374570.2436, 1644651.792341081 5374560), (1644871.26074741 5374560, 1644880 5374568.737154786, 1644881.478 5374570.2148))\n",
      "15:52:09.490:WARNING:SwnMf6:failed to merge segnum 11038274 at (228, 266): MULTILINESTRING ((1640320 5373613.821863813, 1640322.7647 5373611.0565, 1640322.763372809 5373600, 1640322.7611 5373581.0658), (1640560 5373701.00030244, 1640442.7383 5373701.0143, 1640412.7512 5373731.0086, 1640382.7604 5373731.0122, 1640352.7733 5373761.0065, 1640320 5373728.241012455))\n",
      "15:52:12.786:WARNING:SwnMf6:failed to merge segnum 11038665 at (231, 315): MULTILINESTRING ((1652208.884060537 5372880, 1652109.1013 5372979.8078, 1652080 5372979.811390225, 1652079.1102 5372979.8115), (1652320 5372919.799228845, 1652289.04 5372919.8031, 1652289.0363 5372889.8121, 1652279.221745936 5372880))\n",
      "15:52:14.003:WARNING:SwnMf6:failed to merge segnum 11038874 at (232, 256): MULTILINESTRING ((1637908.4012 5372651.6438, 1637920 5372651.64240771, 1637983.3778 5372651.6348, 1637995.009807108 5372640), (1638091.717079263 5372640, 1638133.3345 5372681.6075))\n",
      "15:52:23.643:WARNING:SwnMf6:failed to merge segnum 11039703 at (240, 263): MULTILINESTRING ((1639692.6054 5370672.0457, 1639692.611236259 5370720, 1639692.6127 5370732.027, 1639632.6387 5370792.0157, 1639602.648 5370792.0193, 1639600 5370794.667944626), (1639600 5370849.345915871, 1639662.644 5370911.9746, 1639692.6346 5370911.971, 1639692.640472038 5370960))\n",
      "15:52:59.876:WARNING:SwnMf6:failed to merge segnum 11044027 at (274, 237): MULTILINESTRING ((1633438.953602759 5362560, 1633423.5766 5362575.3809, 1633423.5804 5362605.3713, 1633360 5362668.967814233), (1633360 5362721.726615927, 1633363.6148 5362725.3405, 1633363.624176905 5362800, 1633363.6261 5362815.3118))\n",
      "15:53:00.713:WARNING:SwnMf6:failed to merge segnum 11044390 at (277, 77): MULTILINESTRING ((1595075.978497535 5362080, 1595006.2741 5362010.3128, 1594976.2844 5362010.3165, 1594960 5361994.036117703, 1594946.291 5361980.3305), (1595200 5362070.268217863, 1595126.2403 5362070.2774, 1595116.520098769 5362080))\n",
      "15:53:16.855:WARNING:SwnMf6:failed to merge segnum 11046897 at (297, 89): MULTILINESTRING ((1597840 5357136.325457236, 1597914.6621 5357061.6446, 1597914.659357419 5357040, 1597914.6583 5357031.6548), (1597854.7108 5357286.5753, 1597854.709975614 5357280, 1597854.7014 5357211.6009, 1597840 5357196.90322515))\n",
      "15:53:17.848:WARNING:SwnMf6:failed to merge segnum 11046883 at (298, 149): MULTILINESTRING ((1612480 5357009.57033332, 1612459.7426 5357029.8328, 1612469.91234297 5357040, 1612474.956171485 5357045.042567293), (1612480 5356829.607927666, 1612459.72 5356849.893, 1612459.7275 5356909.8729, 1612480 5356930.140330811))\n",
      "15:53:20.771:WARNING:SwnMf6:failed to merge segnum 11047239 at (300, 81): MULTILINESTRING ((1596160 5356386.918944798, 1596145.18 5356372.1027, 1596145.173484937 5356320), (1596145.2083 5356597.0258, 1596145.203690768 5356560, 1596145.2027 5356552.0412, 1596160 5356537.2401496))\n",
      "15:53:21.359:WARNING:SwnMf6:failed to merge segnum 11047934 at (305, 74): MULTILINESTRING ((1594338.400034227 5355120, 1594315.6511 5355142.7547, 1594255.6716 5355142.7623, 1594240 5355127.094670999, 1594236.45176542 5355123.5473355), (1594480.5946 5355142.7338, 1594480 5355142.733875342, 1594435.61 5355142.7395, 1594412.864660783 5355120))\n",
      "15:53:27.354:WARNING:SwnMf6:failed to merge segnum 11048804 at (314, 76): MULTILINESTRING ((1594945.15814417 5352960, 1594945.165 5353013.4038, 1594960 5353028.235040986), (1594960 5353118.539294489, 1594945.1803 5353133.3628, 1594945.1879 5353193.3423, 1594951.847309614 5353200, 1594955.923654807 5353204.075298708))\n",
      "15:53:32.254:WARNING:SwnMf6:failed to merge segnum 11050420 at (327, 27): MULTILINESTRING ((1583200 5350027.124592797, 1583098.8402 5349925.9911), (1583173.8358 5350090.9244, 1583184.757359043 5350080, 1583200 5350064.753394071))\n",
      "15:53:36.345:WARNING:SwnMf6:failed to merge segnum 11051601 at (336, 91): MULTILINESTRING ((1598320 5347688.119331306, 1598328.117240887 5347680), (1598518.495343332 5347680, 1598543.2563 5347704.7546, 1598560 5347704.752450494, 1598603.2359 5347704.7469))\n",
      "15:53:37.684:WARNING:SwnMf6:failed to merge segnum 11051972 at (340, 94): MULTILINESTRING ((1599082.945347373 5346720, 1599082.9486 5346745.0117, 1599040 5346787.971471886, 1599022.9768 5346804.9991), (1599280 5346744.986274606, 1599262.8874 5346744.9885, 1599237.892441613 5346720))\n",
      "15:53:54.367:WARNING:SwnMf6:failed to merge segnum 11056461 at (378, 14): MULTILINESTRING ((1579858.330224946 5337600, 1579858.3343 5337630.6482, 1579840 5337648.987330319), (1579840 5337822.218997588, 1579857.785746273 5337840, 1579858.3621 5337840.5762, 1579858.3661 5337870.5659))\n",
      "15:53:54.552:WARNING:SwnMf6:failed to merge segnum 11057134 at (384, 23): MULTILINESTRING ((1582000 5336178.269463019, 1582018.264620594 5336160, 1582047.3851 5336130.8718), (1582062.4138 5336385.7825, 1582017.4232 5336340.8038, 1582017.4153 5336280.8244, 1582000 5336263.413686993))\n",
      "15:53:59.949:WARNING:SwnMf6:failed to merge segnum 11058837 at (401, 15): MULTILINESTRING ((1580320 5332279.884357447, 1580307.4714 5332292.4163, 1580307.474987113 5332320, 1580307.4753 5332322.406), (1580314.965472331 5332074.964145944, 1580309.930944663 5332080, 1580307.4435 5332082.4881, 1580307.4475 5332112.4778, 1580320 5332125.026993815))\n",
      "410.7691876888275\n"
     ]
    }
   ],
   "source": [
    "# this also takes forever\n",
    "t0=time.time()\n",
    "ngwf = swn.SwnMf6.from_swn_flopy(n, gwf)\n",
    "print(time.time()-t0)"
   ]
  },
  {
   "cell_type": "code",
   "execution_count": 8,
   "id": "continent-master",
   "metadata": {},
   "outputs": [],
   "source": [
    "# https://modflow6.readthedocs.io/en/latest/_mf6io/gwf-sfr.html?highlight=ustrf#block-packagedata\n",
    "# started from sagehen example, tweaked\n",
    "# can do ngwf.default_packagedata() now?\n",
    "d={'rwid':10.0,'man':0.04,'ustrf':1.0,'ndv': 0}\n",
    "for k in [\"man\", \"rwid\"]:\n",
    "    ngwf.reaches[k]=d[k]"
   ]
  },
  {
   "cell_type": "markdown",
   "id": "acknowledged-dairy",
   "metadata": {},
   "source": [
    "# was taking much time to fail with no zcoord, now takes 1.2 sec\n",
    "t0=time.time()\n",
    "#zcoord_ab or grid_top\n",
    "try:\n",
    "    ngwf.set_reach_slope(method='zcoord_ab')\n",
    "except:\n",
    "    print(time.time()-t0)\n"
   ]
  },
  {
   "cell_type": "code",
   "execution_count": 9,
   "id": "periodic-southwest",
   "metadata": {},
   "outputs": [
    {
     "name": "stdout",
     "output_type": "stream",
     "text": [
      "15:54:30.087:WARNING:SwnMf6:enforcing min_slope for 208 reaches (0.62%)\n"
     ]
    }
   ],
   "source": [
    "# check for nans, should have been fixed, taken care of\n",
    "ngwf.set_reach_slope(method='top_len')"
   ]
  },
  {
   "cell_type": "code",
   "execution_count": 25,
   "id": "relevant-divide",
   "metadata": {},
   "outputs": [],
   "source": [
    "# no rno=0 so missing labels error, floats because of nans\n",
    "top=gwf.dis.top.array\n",
    "botm=gwf.dis.botm.array"
   ]
  },
  {
   "cell_type": "code",
   "execution_count": null,
   "id": "harmful-exception",
   "metadata": {},
   "outputs": [
    {
     "name": "stdout",
     "output_type": "stream",
     "text": [
      "11077 changed\n",
      "8572 changed\n",
      "8398 changed\n",
      "8305 changed\n",
      "8322 changed\n",
      "8283 changed\n",
      "8332 changed\n",
      "8280 changed\n",
      "8329 changed\n",
      "8322 changed\n",
      "8359 changed\n",
      "8331 changed\n",
      "8421 changed\n",
      "8410 changed\n",
      "8473 changed\n",
      "8412 changed\n",
      "8491 changed\n",
      "8443 changed\n",
      "8490 changed\n",
      "8487 changed\n",
      "8560 changed\n"
     ]
    }
   ],
   "source": [
    "drbth=2.0 #default rbth\n",
    "dbit=0.1\n",
    "cont=True\n",
    "while cont:\n",
    "    chg=0\n",
    "    for idx,r in ngwf.reaches.iterrows():\n",
    "        if r['to_rno']!=0:\n",
    "            i=int(r['i'])\n",
    "            j=int(r['j'])\n",
    "            # get list of i,j for upstreams too?\n",
    "            trno=ngwf.reaches.loc[idx,'to_rno']\n",
    "            ti=int(ngwf.reaches.loc[trno,'i'])\n",
    "            tj=int(ngwf.reaches.loc[trno,'j']) \n",
    "            if top[i,j]<=top[ti,tj]:\n",
    "                mtop=np.mean([top[i,j],top[ti,tj]])\n",
    "                dz=top[ti,tj]-mtop+dbit\n",
    "                top[i,j]=mtop+dbit\n",
    "                top[ti,tj]=mtop-dbit\n",
    "                for b in range(0,botm.shape[0]):\n",
    "                    botm[b][ti,tj]=botm[b][ti,tj]-dz\n",
    "                chg=chg+1\n",
    "            ngwf.reaches.loc[idx,'rtp']=top[i,j]\n",
    "            ngwf.reaches.loc[idx,'rbth']=drbth\n",
    "            ngwf.reaches.loc[trno,'rtp']=top[ti,tj]\n",
    "            ngwf.reaches.loc[trno,'rbth']=drbth\n",
    "\n",
    "        if (ngwf.reaches.loc[trno,'rtp']-ngwf.reaches.loc[trno,'rbth'])<botm[0][ti,tj]:\n",
    "            print('derp, your maths suck')\n",
    "    if chg==0:\n",
    "        cont=False\n",
    "    else:\n",
    "        print('{} changed'.format(chg))"
   ]
  },
  {
   "cell_type": "code",
   "execution_count": null,
   "id": "statutory-finland",
   "metadata": {},
   "outputs": [],
   "source": [
    "f=gwf.dis.top.get_file_entry().split(\"'\")[1]\n",
    "fpth=os.path.join(sim_ws+'_sfr',f)\n",
    "np.savetxt(f,top)"
   ]
  },
  {
   "cell_type": "code",
   "execution_count": null,
   "id": "second-latin",
   "metadata": {},
   "outputs": [],
   "source": [
    "for b in range(0,botm.shape[0]):\n",
    "    f=gwf.dis.botm[b].fname\n",
    "    fpth=os.path.join(sim_ws+'_sfr',f)\n",
    "    np.savetxt(f,botm[b])"
   ]
  },
  {
   "cell_type": "code",
   "execution_count": null,
   "id": "danish-front",
   "metadata": {},
   "outputs": [],
   "source": [
    "ngwf.set_reach_data_from_array('rhk',gwf.npf.k.array[0])"
   ]
  },
  {
   "cell_type": "code",
   "execution_count": null,
   "id": "national-victor",
   "metadata": {},
   "outputs": [],
   "source": [
    "n.segments.to_csv(os.path.join(sim_ws+'_sfr',model_name+'_znseg_mf6rch.csv'))"
   ]
  },
  {
   "cell_type": "code",
   "execution_count": null,
   "id": "welsh-princess",
   "metadata": {},
   "outputs": [],
   "source": [
    "mask=[s for s in n.segments.index if (len(n.segments.loc[s,'from_segnums'])==0) & (n.segments.loc[s,'to_segnum']==0)]"
   ]
  },
  {
   "cell_type": "code",
   "execution_count": null,
   "id": "appointed-leeds",
   "metadata": {},
   "outputs": [],
   "source": [
    "len(mask)"
   ]
  },
  {
   "cell_type": "code",
   "execution_count": null,
   "id": "regular-juvenile",
   "metadata": {},
   "outputs": [],
   "source": [
    "n.segments.drop(mask,inplace=True)"
   ]
  },
  {
   "cell_type": "code",
   "execution_count": null,
   "id": "quantitative-evening",
   "metadata": {},
   "outputs": [],
   "source": [
    "\n",
    "\n",
    "# There are two methods to format the PACKAGEDATA:\n",
    "ngwf.flopy_packagedata\n",
    "ngwf.write_packagedata(os.path.join(sim_ws+'_sfr',model_name+'.sfr0.reach.dat'))\n",
    "\n",
    "#Similar with CONNECTIONDATA:\n",
    "ngwf.flopy_connectiondata\n",
    "ngwf.write_connectiondata(os.path.join(sim_ws+'_sfr',model_name+'.sfr0.connection.dat'))\n"
   ]
  },
  {
   "cell_type": "code",
   "execution_count": null,
   "id": "southwest-weather",
   "metadata": {},
   "outputs": [],
   "source": [
    "sfr=flopy.mf6.ModflowGwfsfr(gwf,packagedata={'filename':model_name+'.sfr0.reach.dat'},\n",
    "                            connectiondata={'filename':model_name+'.sfr0.connection.dat'},\n",
    "                           nreaches=len(ngwf.reaches),budget_filerecord=model_name + \"_sfr.bud\",\n",
    "                            save_flows=True)\n",
    "#gwf.register_package(sfr)\n",
    "sfr.write()"
   ]
  },
  {
   "cell_type": "code",
   "execution_count": null,
   "id": "informational-celebrity",
   "metadata": {},
   "outputs": [],
   "source": [
    "model_name"
   ]
  },
  {
   "cell_type": "code",
   "execution_count": null,
   "id": "twenty-board",
   "metadata": {},
   "outputs": [],
   "source": []
  },
  {
   "cell_type": "code",
   "execution_count": null,
   "id": "southern-commodity",
   "metadata": {},
   "outputs": [],
   "source": []
  },
  {
   "cell_type": "code",
   "execution_count": null,
   "id": "naval-michael",
   "metadata": {},
   "outputs": [],
   "source": [
    "gwf.write()"
   ]
  },
  {
   "cell_type": "code",
   "execution_count": null,
   "id": "surprised-regular",
   "metadata": {
    "scrolled": true
   },
   "outputs": [],
   "source": [
    "help(ngwf)"
   ]
  },
  {
   "cell_type": "code",
   "execution_count": null,
   "id": "composite-washington",
   "metadata": {},
   "outputs": [],
   "source": []
  },
  {
   "cell_type": "markdown",
   "id": "alike-warrant",
   "metadata": {},
   "source": [
    "# write shapefile, but not sfr info from grid intersection"
   ]
  },
  {
   "cell_type": "code",
   "execution_count": null,
   "id": "brief-officer",
   "metadata": {},
   "outputs": [],
   "source": [
    "swn.file.gdf_to_shapefile(n.segments, 'segments.shp')"
   ]
  }
 ],
 "metadata": {
  "kernelspec": {
   "display_name": "Python 3",
   "language": "python",
   "name": "python3"
  },
  "language_info": {
   "codemirror_mode": {
    "name": "ipython",
    "version": 3
   },
   "file_extension": ".py",
   "mimetype": "text/x-python",
   "name": "python",
   "nbconvert_exporter": "python",
   "pygments_lexer": "ipython3",
   "version": "3.7.9"
  }
 },
 "nbformat": 4,
 "nbformat_minor": 5
}
