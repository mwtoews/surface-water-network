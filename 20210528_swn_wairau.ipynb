{
 "cells": [
  {
   "cell_type": "markdown",
   "id": "alleged-replication",
   "metadata": {},
   "source": [
    "Step 1: build a surface water network. You can \"pickle\" this, so it doesn't need to be repeated.\n",
    "\n",
    "n = swn.SurfaceWaterNetwork.from_lines(gdf.geometry)\n",
    "\n",
    "n.to_pickle(\"surface-water-network.pkl\")\n",
    "\n",
    "# then in a later session, skip the above and just do:\n",
    "\n",
    "n = swn.SurfaceWaterNetwork.from_pickle(\"surface-water-network.pkl\")\n",
    "\n",
    "Step 2: load a MF6 model, then find the intersections:\n",
    "\n",
    "sim = flopy.mf6.MFSimulation.load(...)\n",
    "\n",
    "m = sim.get_model(...)\n",
    "\n",
    "nm = swn.SwnMf6.from_swn_flopy(n, m)\n",
    "\n",
    "Most of the results will be in the nm.reaches property, but other reach datasets will need to be specified, including \"man\", \"rbth\", \"rgrd\", \"rhk\", \"rtp\", and \"rwid\". There are two methods to format the PACKAGEDATA:\n",
    "\n",
    "nm.flopy_packagedata\n",
    "\n",
    "nm.write_packagedata(\"packagedata.dat\")\n",
    "\n",
    "Similar with CONNECTIONDATA:\n",
    "\n",
    "nm.flopy_connectiondata\n",
    "\n",
    "nm.write_connectiondata(\"connectiondata.dat\")\n",
    "\n",
    "There are a few \"helper\" methods to sort out things like \"set_reach_slope\" based on a few methods. One missing one is \"set_reach_elevation\" or whatever to make the reaches fit in the layer and/or move the layer elevations to fit the stream.\n",
    "\n",
    "And lastly, there is no PERIOD data yet. I'm working on this, which is holding up the merge.\n"
   ]
  },
  {
   "cell_type": "code",
   "execution_count": 12,
   "id": "labeled-horror",
   "metadata": {},
   "outputs": [],
   "source": [
    "import geopandas\n",
    "import os\n",
    "import swn\n",
    "import flopy\n",
    "import numpy as np\n",
    "import time\n",
    "import pandas as pd"
   ]
  },
  {
   "cell_type": "code",
   "execution_count": null,
   "id": "handy-auckland",
   "metadata": {},
   "outputs": [],
   "source": []
  },
  {
   "cell_type": "markdown",
   "id": "muslim-smart",
   "metadata": {},
   "source": [
    "# SW network pickle"
   ]
  },
  {
   "cell_type": "markdown",
   "id": "tested-grace",
   "metadata": {},
   "source": [
    "#only do this once... takes forever... then load pickle\n",
    "gdb_dir = 'D:\\modelling\\data'\n",
    "gdb_fname = 'nzRec2_v5.gdb'\n",
    "gdb_path = os.path.join(gdb_dir, gdb_fname)\n",
    "# Read national data of streams\n",
    "gdf_lines = geopandas.read_file(gdb_path, layer='riverlines')\n",
    "gdf_lines.set_index('nzsegment', inplace=True, verify_integrity=True)\n",
    "gdf_ws = geopandas.read_file(gdb_path, layer='rec2ws')\n",
    "gdf_ws.set_index('nzsegment', inplace=True, verify_integrity=True)\n",
    "# Convert MultiLineString -> LineString\n",
    "lines = gdf_lines.geometry.apply(lambda x: x.geoms[0]) #what is geoms[0]\n",
    "polygons = gdf_ws.geometry.apply(lambda x: x.geoms[0])\n",
    "#ni_lines = gdf_lines.loc[gdf_lines.index < 10000000, \"geometry\"]\n",
    "# requires reindex otherwise failure in core.from_lines\n",
    "t0=time.time()\n",
    "n = swn.SurfaceWaterNetwork.from_lines(lines,polygons.reindex(index=lines.index))\n",
    "print(time.time()-t0)\n",
    "n.to_pickle(\"surface-water-network.pkl\")"
   ]
  },
  {
   "cell_type": "markdown",
   "id": "elder-calvin",
   "metadata": {},
   "source": [
    "# get the pickle"
   ]
  },
  {
   "cell_type": "code",
   "execution_count": 13,
   "id": "detected-afternoon",
   "metadata": {},
   "outputs": [],
   "source": [
    "n = swn.SurfaceWaterNetwork.from_pickle(\"surface-water-network.pkl\")"
   ]
  },
  {
   "cell_type": "markdown",
   "id": "immediate-pilot",
   "metadata": {},
   "source": [
    "# Load MF6 model"
   ]
  },
  {
   "cell_type": "code",
   "execution_count": 14,
   "id": "remarkable-insider",
   "metadata": {},
   "outputs": [
    {
     "data": {
      "text/plain": [
       "'D:\\\\modelling\\\\surface-water-network'"
      ]
     },
     "execution_count": 14,
     "metadata": {},
     "output_type": "execute_result"
    }
   ],
   "source": [
    "os.getcwd()"
   ]
  },
  {
   "cell_type": "code",
   "execution_count": 15,
   "id": "neural-ending",
   "metadata": {},
   "outputs": [
    {
     "name": "stdout",
     "output_type": "stream",
     "text": [
      "loading simulation...\n",
      "  loading simulation name file...\n",
      "  loading tdis package...\n",
      "  loading model gwf6...\n",
      "    loading package dis...\n",
      "    loading package ic...\n",
      "    loading package ghb...\n",
      "    loading package rch...\n",
      "    loading package drn...\n",
      "    loading package npf...\n",
      "    loading package sto...\n",
      "    loading package oc...\n",
      "  loading ims package wairau_240_3...\n"
     ]
    }
   ],
   "source": [
    "sim_ws=os.path.join('..','zmodels','20210622_simulation','wairau_240_3')\n",
    "model_name='wairau_240_3'\n",
    "sim=flopy.mf6.MFSimulation.load(sim_ws=sim_ws)\n",
    "gwf=sim.get_model(model_name)"
   ]
  },
  {
   "cell_type": "markdown",
   "id": "domestic-investing",
   "metadata": {},
   "source": [
    "## spatial reference for model"
   ]
  },
  {
   "cell_type": "code",
   "execution_count": 16,
   "id": "expressed-object",
   "metadata": {},
   "outputs": [],
   "source": [
    "#sr=flopy.utils.reference.SpatialReference.from_gridspec(os.path.join(sim_ws,model_name+'.grid.spc'))\n",
    "#gwf.dis.xorigin=sr.xul\n",
    "#gwf.dis.yorigin=sr.yul-np.sum(gwf.dis.delr.data)\n",
    "#gwf.dis.write()"
   ]
  },
  {
   "cell_type": "code",
   "execution_count": 17,
   "id": "broken-story",
   "metadata": {},
   "outputs": [
    {
     "data": {
      "text/plain": [
       "flopy.mf6.mfmodel.MFModel"
      ]
     },
     "execution_count": 17,
     "metadata": {},
     "output_type": "execute_result"
    }
   ],
   "source": [
    "type(gwf)"
   ]
  },
  {
   "cell_type": "code",
   "execution_count": 18,
   "id": "injured-theme",
   "metadata": {
    "scrolled": true
   },
   "outputs": [
    {
     "name": "stdout",
     "output_type": "stream",
     "text": [
      "409.6421043872833\n"
     ]
    }
   ],
   "source": [
    "# this also takes forever\n",
    "t0=time.time()\n",
    "ngwf = swn.SwnMf6.from_swn_flopy(n, gwf,reach_include_fraction=0)\n",
    "print(time.time()-t0)"
   ]
  },
  {
   "cell_type": "code",
   "execution_count": 19,
   "id": "convertible-excerpt",
   "metadata": {},
   "outputs": [
    {
     "data": {
      "text/plain": [
       "'wairau_240_3.dis_botm_layer1.txt'"
      ]
     },
     "execution_count": 19,
     "metadata": {},
     "output_type": "execute_result"
    }
   ],
   "source": [
    "gwf.dis.botm[0].fname"
   ]
  },
  {
   "cell_type": "code",
   "execution_count": 20,
   "id": "arbitrary-operations",
   "metadata": {},
   "outputs": [],
   "source": [
    "# https://modflow6.readthedocs.io/en/latest/_mf6io/gwf-sfr.html?highlight=ustrf#block-packagedata\n",
    "# started from sagehen example, tweaked\n",
    "# can do ngwf.default_packagedata() now?\n",
    "d={'rwid':10.0,'man':0.04,'ustrf':1.0,'ndv': 0}\n",
    "for k in [\"man\", \"rwid\"]:\n",
    "    ngwf.reaches[k]=d[k]"
   ]
  },
  {
   "cell_type": "markdown",
   "id": "marked-spirit",
   "metadata": {},
   "source": [
    "# was taking much time to fail with no zcoord, now takes 1.2 sec\n",
    "t0=time.time()\n",
    "#zcoord_ab or grid_top\n",
    "try:\n",
    "    ngwf.set_reach_slope(method='zcoord_ab')\n",
    "except:\n",
    "    print(time.time()-t0)\n"
   ]
  },
  {
   "cell_type": "code",
   "execution_count": 21,
   "id": "featured-industry",
   "metadata": {},
   "outputs": [
    {
     "name": "stdout",
     "output_type": "stream",
     "text": [
      "15:32:23.605:WARNING:SwnMf6:enforcing min_slope for 132 reaches (0.33%)\n"
     ]
    }
   ],
   "source": [
    "# check for nans, should have been fixed, taken care of\n",
    "ngwf.set_reach_slope(method='top_len')"
   ]
  },
  {
   "cell_type": "code",
   "execution_count": 26,
   "id": "beneficial-drinking",
   "metadata": {},
   "outputs": [],
   "source": [
    "# no rno=0 so missing labels error, floats because of nans\n",
    "# mintop is way higher than top, top must have been filtered differently\n",
    "mintop=np.loadtxt(os.path.join(sim_ws,model_name+'.mintop.dat'))\n",
    "top=gwf.dis.top.array\n",
    "botm=gwf.dis.botm.array\n",
    "ngwf.set_reach_data_from_array(\"rtp\", top)"
   ]
  },
  {
   "cell_type": "code",
   "execution_count": 27,
   "id": "liberal-reggae",
   "metadata": {},
   "outputs": [
    {
     "name": "stdout",
     "output_type": "stream",
     "text": [
      "29.155561447143555\n"
     ]
    }
   ],
   "source": [
    "t0=time.time()\n",
    "df=ngwf.reaches.copy()\n",
    "rdf=ngwf.reaches.copy()\n",
    "df['ij']=df.apply(lambda x: (x['i'],x['j']),axis=1)\n",
    "for idx,r in df.iterrows():\n",
    "    trno=int(r['to_rno'])\n",
    "    if trno!=0:\n",
    "        #rdf.loc[idx,'ti']=int(df.loc[trno,'i'])\n",
    "        #rdf.loc[idx,'tj']=int(df.loc[trno,'j'])\n",
    "        rdf.loc[idx,'to_rtp']=df.loc[trno,'rtp']\n",
    "#rdf['titj']=rdf.apply(lambda x: (int(x['ti']),int(x['tj'])),axis=1)\n",
    "print(time.time()-t0)"
   ]
  },
  {
   "cell_type": "code",
   "execution_count": 24,
   "id": "rational-commerce",
   "metadata": {},
   "outputs": [
    {
     "data": {
      "text/plain": [
       "1100.1292809263455"
      ]
     },
     "execution_count": 24,
     "metadata": {},
     "output_type": "execute_result"
    }
   ],
   "source": [
    "mintop[389,55]"
   ]
  },
  {
   "cell_type": "code",
   "execution_count": 25,
   "id": "located-boston",
   "metadata": {},
   "outputs": [
    {
     "data": {
      "text/plain": [
       "1098.1763155826266"
      ]
     },
     "execution_count": 25,
     "metadata": {},
     "output_type": "execute_result"
    }
   ],
   "source": [
    "top[389,55]"
   ]
  },
  {
   "cell_type": "code",
   "execution_count": 29,
   "id": "ignored-airport",
   "metadata": {},
   "outputs": [],
   "source": [
    "rdf.loc[:,'rbth']=2"
   ]
  },
  {
   "cell_type": "code",
   "execution_count": 31,
   "id": "immediate-prior",
   "metadata": {},
   "outputs": [
    {
     "name": "stdout",
     "output_type": "stream",
     "text": [
      "14294\n",
      "13464 changed in loop 1\n",
      "4082\n"
     ]
    }
   ],
   "source": [
    "loop=0\n",
    "cont=True\n",
    "mindz=0.001\n",
    "minincise=1.0\n",
    "minthick=1.0\n",
    "while cont:\n",
    "    bad_reaches=[i for i in rdf.index if rdf.loc[i,'to_rtp']>rdf.loc[i,'rtp']-mindz]\n",
    "    loop=loop+1\n",
    "    chg=0\n",
    "    for br in bad_reaches:\n",
    "        rno=br\n",
    "        trno=int(rdf.loc[br,'to_rno'])\n",
    "        chglist=[]\n",
    "        if trno!=0:\n",
    "            c=1\n",
    "            while trno!=0 and rdf.loc[trno,'rtp']>rdf.loc[rno,'rtp']-mindz*c:\n",
    "                # keep list of dz in case another inflowing stream is even lower\n",
    "                chglist.append(trno)\n",
    "                nelev=rdf.loc[rno,'rtp']-mindz*c\n",
    "                # set to_rtp and rtp\n",
    "                rdf.loc[rno,'to_rtp']=nelev                \n",
    "                rdf.loc[trno,'rtp']=nelev\n",
    "                # get new to_rno \n",
    "                rno=trno\n",
    "                trno=df.loc[rno,'to_rno']\n",
    "                c=c+1\n",
    "                \n",
    "            # now adjust layering if necessary\n",
    "            if len(chglist)>0:\n",
    "                for r in chglist:\n",
    "                    ij=(int(rdf.loc[r,'i']),int(rdf.loc[r,'j']))\n",
    "                    \n",
    "                    # bump top elev up to rtp\n",
    "                    if top[ij]<rdf.loc[r,'rtp']:\n",
    "                        top[ij]=rdf.loc[r,'rtp']+minincise\n",
    "                    # bump bottoms down if needed\n",
    "                    if botm[0][ij]>=rdf.loc[r,'rtp']-(rdf.loc[r,'rbth']+minthick):\n",
    "                        dz=botm[0][ij]-(rdf.loc[r,'rtp']-(rdf.loc[r,'rbth']+minthick))\n",
    "                        for b in range(0,botm.shape[0]):\n",
    "                            botm[b][ij]=botm[b][ij]-dz\n",
    "                        \n",
    "        chg=chg+len(chglist)\n",
    "    if chg==0:\n",
    "        cont=False\n",
    "    else:\n",
    "        print('{} changed in loop {}'.format(chg,loop))"
   ]
  },
  {
   "cell_type": "code",
   "execution_count": 32,
   "id": "stretch-support",
   "metadata": {},
   "outputs": [
    {
     "data": {
      "text/plain": [
       "<matplotlib.colorbar.Colorbar at 0x17ac12fdd08>"
      ]
     },
     "execution_count": 32,
     "metadata": {},
     "output_type": "execute_result"
    },
    {
     "data": {
      "image/png": "[encoded data removed]",
      "text/plain": [
       "<Figure size 432x288 with 2 Axes>"
      ]
     },
     "metadata": {
      "needs_background": "light"
     },
     "output_type": "display_data"
    }
   ],
   "source": [
    "import matplotlib.pyplot as plt\n",
    "plt.imshow(top)\n",
    "plt.colorbar()"
   ]
  },
  {
   "cell_type": "code",
   "execution_count": 40,
   "id": "literary-absorption",
   "metadata": {},
   "outputs": [
    {
     "data": {
      "text/plain": [
       "<matplotlib.colorbar.Colorbar at 0x17acab59988>"
      ]
     },
     "execution_count": 40,
     "metadata": {},
     "output_type": "execute_result"
    },
    {
     "data": {
      "image/png": "[encoded data removed]",
      "text/plain": [
       "<Figure size 432x288 with 2 Axes>"
      ]
     },
     "metadata": {
      "needs_background": "light"
     },
     "output_type": "display_data"
    }
   ],
   "source": [
    "i=1\n",
    "plt.imshow(gwf.dis.botm[i].array-gwf.dis.botm[i-1].array)\n",
    "plt.colorbar()"
   ]
  },
  {
   "cell_type": "code",
   "execution_count": 36,
   "id": "valid-promotion",
   "metadata": {},
   "outputs": [
    {
     "data": {
      "text/plain": [
       "0.0"
      ]
     },
     "execution_count": 36,
     "metadata": {},
     "output_type": "execute_result"
    }
   ],
   "source": [
    "np.max(gwf.dis.top.array-top)"
   ]
  },
  {
   "cell_type": "code",
   "execution_count": 35,
   "id": "narrow-durham",
   "metadata": {},
   "outputs": [
    {
     "data": {
      "text/plain": [
       "<matplotlib.colorbar.Colorbar at 0x17ad0aebe88>"
      ]
     },
     "execution_count": 35,
     "metadata": {},
     "output_type": "execute_result"
    },
    {
     "data": {
      "image/png": "[encoded data removed]",
      "text/plain": [
       "<Figure size 432x288 with 2 Axes>"
      ]
     },
     "metadata": {
      "needs_background": "light"
     },
     "output_type": "display_data"
    }
   ],
   "source": [
    "plt.imshow(top[385:390,55:60])\n",
    "plt.colorbar()"
   ]
  },
  {
   "cell_type": "code",
   "execution_count": null,
   "id": "korean-sterling",
   "metadata": {},
   "outputs": [],
   "source": [
    "top[389,55]"
   ]
  },
  {
   "cell_type": "code",
   "execution_count": null,
   "id": "elegant-balloon",
   "metadata": {},
   "outputs": [],
   "source": [
    "rdf.loc[(rdf['i']==389) & (rdf['j']==55),:]"
   ]
  },
  {
   "cell_type": "code",
   "execution_count": null,
   "id": "pretty-laser",
   "metadata": {},
   "outputs": [],
   "source": []
  },
  {
   "cell_type": "code",
   "execution_count": null,
   "id": "curious-alias",
   "metadata": {},
   "outputs": [],
   "source": [
    "f=gwf.dis.top.get_file_entry().split(\"'\")[1]\n",
    "fpth=os.path.join(sim_ws+'_sfr',f)\n",
    "np.savetxt(f,top)"
   ]
  },
  {
   "cell_type": "code",
   "execution_count": null,
   "id": "vanilla-stock",
   "metadata": {},
   "outputs": [],
   "source": [
    "for b in range(0,botm.shape[0]):\n",
    "    f=gwf.dis.botm[b].fname\n",
    "    fpth=os.path.join(sim_ws+'_sfr',f)\n",
    "    np.savetxt(f,botm[b])"
   ]
  },
  {
   "cell_type": "code",
   "execution_count": null,
   "id": "least-exhaust",
   "metadata": {},
   "outputs": [],
   "source": [
    "ngwf.reaches=rdf"
   ]
  },
  {
   "cell_type": "code",
   "execution_count": null,
   "id": "closing-commodity",
   "metadata": {},
   "outputs": [],
   "source": [
    "ngwf.set_reach_data_from_array('rhk',gwf.npf.k.array[0])"
   ]
  },
  {
   "cell_type": "code",
   "execution_count": null,
   "id": "centered-mouse",
   "metadata": {},
   "outputs": [],
   "source": [
    "n.segments.to_csv(os.path.join(sim_ws+'_sfr',model_name+'_znseg_mf6rch.csv'))"
   ]
  },
  {
   "cell_type": "code",
   "execution_count": null,
   "id": "surface-crazy",
   "metadata": {},
   "outputs": [],
   "source": [
    "mask=[s for s in n.segments.index if (len(n.segments.loc[s,'from_segnums'])==0) & (n.segments.loc[s,'to_segnum']==0)]"
   ]
  },
  {
   "cell_type": "code",
   "execution_count": null,
   "id": "gorgeous-origin",
   "metadata": {},
   "outputs": [],
   "source": [
    "len(mask)"
   ]
  },
  {
   "cell_type": "code",
   "execution_count": null,
   "id": "better-lithuania",
   "metadata": {},
   "outputs": [],
   "source": [
    "n.segments.drop(mask,inplace=True)"
   ]
  },
  {
   "cell_type": "code",
   "execution_count": null,
   "id": "difficult-green",
   "metadata": {},
   "outputs": [],
   "source": [
    "\n",
    "\n",
    "# There are two methods to format the PACKAGEDATA:\n",
    "ngwf.flopy_packagedata\n",
    "ngwf.write_packagedata(os.path.join(sim_ws+'_sfr',model_name+'.sfr0.reach.dat'))\n",
    "\n",
    "#Similar with CONNECTIONDATA:\n",
    "ngwf.flopy_connectiondata\n",
    "ngwf.write_connectiondata(os.path.join(sim_ws+'_sfr',model_name+'.sfr0.connection.dat'))\n"
   ]
  },
  {
   "cell_type": "code",
   "execution_count": null,
   "id": "traditional-dance",
   "metadata": {},
   "outputs": [],
   "source": [
    "sfr=flopy.mf6.ModflowGwfsfr(gwf,packagedata={'filename':model_name+'.sfr0.reach.dat'},\n",
    "                            connectiondata={'filename':model_name+'.sfr0.connection.dat'},\n",
    "                           nreaches=len(ngwf.reaches),budget_filerecord=model_name + \"_sfr.bud\",\n",
    "                            save_flows=True)\n",
    "#gwf.register_package(sfr)\n",
    "sfr.write()"
   ]
  },
  {
   "cell_type": "code",
   "execution_count": null,
   "id": "political-business",
   "metadata": {},
   "outputs": [],
   "source": [
    "model_name"
   ]
  },
  {
   "cell_type": "code",
   "execution_count": null,
   "id": "expensive-entry",
   "metadata": {},
   "outputs": [],
   "source": []
  },
  {
   "cell_type": "code",
   "execution_count": null,
   "id": "commercial-diameter",
   "metadata": {},
   "outputs": [],
   "source": []
  },
  {
   "cell_type": "code",
   "execution_count": null,
   "id": "numeric-motivation",
   "metadata": {},
   "outputs": [],
   "source": [
    "gwf.write()"
   ]
  },
  {
   "cell_type": "code",
   "execution_count": null,
   "id": "optional-mauritius",
   "metadata": {
    "scrolled": true
   },
   "outputs": [],
   "source": [
    "help(ngwf)"
   ]
  },
  {
   "cell_type": "code",
   "execution_count": null,
   "id": "documented-resolution",
   "metadata": {},
   "outputs": [],
   "source": []
  },
  {
   "cell_type": "markdown",
   "id": "useful-remark",
   "metadata": {},
   "source": [
    "# write shapefile, but not sfr info from grid intersection"
   ]
  },
  {
   "cell_type": "code",
   "execution_count": null,
   "id": "radio-furniture",
   "metadata": {},
   "outputs": [],
   "source": [
    "swn.file.gdf_to_shapefile(n.segments, 'segments.shp')"
   ]
  }
 ],
 "metadata": {
  "kernelspec": {
   "display_name": "Python 3",
   "language": "python",
   "name": "python3"
  }
 },
 "nbformat": 4,
 "nbformat_minor": 5
}
