{
 "cells": [
  {
   "cell_type": "markdown",
   "id": "liable-sheriff",
   "metadata": {},
   "source": [
    "Step 1: build a surface water network. You can \"pickle\" this, so it doesn't need to be repeated.\n",
    "\n",
    "n = swn.SurfaceWaterNetwork.from_lines(gdf.geometry)\n",
    "\n",
    "n.to_pickle(\"surface-water-network.pkl\")\n",
    "\n",
    "# then in a later session, skip the above and just do:\n",
    "\n",
    "n = swn.SurfaceWaterNetwork.from_pickle(\"surface-water-network.pkl\")\n",
    "\n",
    "Step 2: load a MF6 model, then find the intersections:\n",
    "\n",
    "sim = flopy.mf6.MFSimulation.load(...)\n",
    "\n",
    "m = sim.get_model(...)\n",
    "\n",
    "nm = swn.SwnMf6.from_swn_flopy(n, m)\n",
    "\n",
    "Most of the results will be in the nm.reaches property, but other reach datasets will need to be specified, including \"man\", \"rbth\", \"rgrd\", \"rhk\", \"rtp\", and \"rwid\". There are two methods to format the PACKAGEDATA:\n",
    "\n",
    "nm.flopy_packagedata\n",
    "\n",
    "nm.write_packagedata(\"packagedata.dat\")\n",
    "\n",
    "Similar with CONNECTIONDATA:\n",
    "\n",
    "nm.flopy_connectiondata\n",
    "\n",
    "nm.write_connectiondata(\"connectiondata.dat\")\n",
    "\n",
    "There are a few \"helper\" methods to sort out things like \"set_reach_slope\" based on a few methods. One missing one is \"set_reach_elevation\" or whatever to make the reaches fit in the layer and/or move the layer elevations to fit the stream.\n",
    "\n",
    "And lastly, there is no PERIOD data yet. I'm working on this, which is holding up the merge.\n"
   ]
  },
  {
   "cell_type": "code",
   "execution_count": 1,
   "id": "exciting-alaska",
   "metadata": {},
   "outputs": [],
   "source": [
    "import geopandas\n",
    "import os\n",
    "import swn\n",
    "import flopy\n",
    "import numpy as np\n",
    "import time"
   ]
  },
  {
   "cell_type": "markdown",
   "id": "established-invention",
   "metadata": {},
   "source": [
    "# SW network pickle"
   ]
  },
  {
   "cell_type": "markdown",
   "id": "hungarian-football",
   "metadata": {},
   "source": [
    "#only do this once... takes forever... then load pickle\n",
    "gdb_dir = 'D:\\modelling\\data'\n",
    "gdb_fname = 'nzRec2_v5.gdb'\n",
    "gdb_path = os.path.join(gdb_dir, gdb_fname)\n",
    "# Read national data of streams\n",
    "gdf_lines = geopandas.read_file(gdb_path, layer='riverlines')\n",
    "gdf_lines.set_index('nzsegment', inplace=True, verify_integrity=True)\n",
    "gdf_ws = geopandas.read_file(gdb_path, layer='rec2ws')\n",
    "gdf_ws.set_index('nzsegment', inplace=True, verify_integrity=True)\n",
    "# Convert MultiLineString -> LineString\n",
    "lines = gdf_lines.geometry.apply(lambda x: x.geoms[0]) #what is geoms[0]\n",
    "polygons = gdf_ws.geometry.apply(lambda x: x.geoms[0])\n",
    "#ni_lines = gdf_lines.loc[gdf_lines.index < 10000000, \"geometry\"]\n",
    "# requires reindex otherwise failure in core.from_lines\n",
    "t0=time.time()\n",
    "n = swn.SurfaceWaterNetwork.from_lines(lines,polygons.reindex(index=lines.index))\n",
    "print(time.time()-t0)\n",
    "n.to_pickle(\"surface-water-network.pkl\")"
   ]
  },
  {
   "cell_type": "markdown",
   "id": "civic-porcelain",
   "metadata": {},
   "source": [
    "# get the pickle"
   ]
  },
  {
   "cell_type": "code",
   "execution_count": 2,
   "id": "assured-likelihood",
   "metadata": {},
   "outputs": [],
   "source": [
    "n = swn.SurfaceWaterNetwork.from_pickle(\"surface-water-network.pkl\")"
   ]
  },
  {
   "cell_type": "markdown",
   "id": "established-marijuana",
   "metadata": {},
   "source": [
    "# Load MF6 model"
   ]
  },
  {
   "cell_type": "code",
   "execution_count": 3,
   "id": "olive-member",
   "metadata": {},
   "outputs": [
    {
     "data": {
      "text/plain": [
       "'D:\\\\modelling\\\\surface-water-network'"
      ]
     },
     "execution_count": 3,
     "metadata": {},
     "output_type": "execute_result"
    }
   ],
   "source": [
    "os.getcwd()"
   ]
  },
  {
   "cell_type": "code",
   "execution_count": 4,
   "id": "billion-builder",
   "metadata": {},
   "outputs": [
    {
     "name": "stdout",
     "output_type": "stream",
     "text": [
      "loading simulation...\n",
      "  loading simulation name file...\n",
      "  loading tdis package...\n",
      "  loading model gwf6...\n",
      "    loading package dis...\n",
      "    loading package ic...\n",
      "    loading package ghb...\n",
      "    loading package rch...\n",
      "    loading package drn...\n",
      "    loading package npf...\n",
      "    loading package sto...\n",
      "    loading package oc...\n",
      "  loading ims package wairau_240_3...\n"
     ]
    }
   ],
   "source": [
    "sim_ws=os.path.join('..','zmodels','20210622_simulation','wairau_240_3')\n",
    "model_name='wairau_240_3'\n",
    "sim=flopy.mf6.MFSimulation.load(sim_ws=sim_ws)\n",
    "gwf=sim.get_model(model_name)"
   ]
  },
  {
   "cell_type": "markdown",
   "id": "about-ministry",
   "metadata": {},
   "source": [
    "## spatial reference for model"
   ]
  },
  {
   "cell_type": "code",
   "execution_count": 5,
   "id": "cooked-duplicate",
   "metadata": {},
   "outputs": [],
   "source": [
    "#sr=flopy.utils.reference.SpatialReference.from_gridspec(os.path.join(sim_ws,model_name+'.grid.spc'))\n",
    "#gwf.dis.xorigin=sr.xul\n",
    "#gwf.dis.yorigin=sr.yul-np.sum(gwf.dis.delr.data)\n",
    "#gwf.dis.write()"
   ]
  },
  {
   "cell_type": "code",
   "execution_count": 6,
   "id": "vietnamese-lending",
   "metadata": {},
   "outputs": [
    {
     "data": {
      "text/plain": [
       "flopy.mf6.mfmodel.MFModel"
      ]
     },
     "execution_count": 6,
     "metadata": {},
     "output_type": "execute_result"
    }
   ],
   "source": [
    "type(gwf)"
   ]
  },
  {
   "cell_type": "code",
   "execution_count": 7,
   "id": "relevant-pilot",
   "metadata": {
    "scrolled": true
   },
   "outputs": [
    {
     "name": "stdout",
     "output_type": "stream",
     "text": [
      "370.4846336841583\n"
     ]
    }
   ],
   "source": [
    "# this also takes forever\n",
    "t0=time.time()\n",
    "ngwf = swn.SwnMf6.from_swn_flopy(n, gwf,reach_include_fraction=0)\n",
    "print(time.time()-t0)"
   ]
  },
  {
   "cell_type": "code",
   "execution_count": 8,
   "id": "continent-master",
   "metadata": {},
   "outputs": [],
   "source": [
    "# https://modflow6.readthedocs.io/en/latest/_mf6io/gwf-sfr.html?highlight=ustrf#block-packagedata\n",
    "# started from sagehen example, tweaked\n",
    "# can do ngwf.default_packagedata() now?\n",
    "d={'rwid':10.0,'man':0.04,'ustrf':1.0,'ndv': 0}\n",
    "for k in [\"man\", \"rwid\"]:\n",
    "    ngwf.reaches[k]=d[k]"
   ]
  },
  {
   "cell_type": "markdown",
   "id": "acknowledged-dairy",
   "metadata": {},
   "source": [
    "# was taking much time to fail with no zcoord, now takes 1.2 sec\n",
    "t0=time.time()\n",
    "#zcoord_ab or grid_top\n",
    "try:\n",
    "    ngwf.set_reach_slope(method='zcoord_ab')\n",
    "except:\n",
    "    print(time.time()-t0)\n"
   ]
  },
  {
   "cell_type": "code",
   "execution_count": 9,
   "id": "periodic-southwest",
   "metadata": {},
   "outputs": [
    {
     "name": "stdout",
     "output_type": "stream",
     "text": [
      "17:27:29.814:WARNING:SwnMf6:enforcing min_slope for 201 reaches (0.50%)\n"
     ]
    }
   ],
   "source": [
    "# check for nans, should have been fixed, taken care of\n",
    "ngwf.set_reach_slope(method='top_len')"
   ]
  },
  {
   "cell_type": "code",
   "execution_count": 10,
   "id": "restricted-prototype",
   "metadata": {},
   "outputs": [
    {
     "data": {
      "text/html": [
       "<div>\n",
       "<style scoped>\n",
       "    .dataframe tbody tr th:only-of-type {\n",
       "        vertical-align: middle;\n",
       "    }\n",
       "\n",
       "    .dataframe tbody tr th {\n",
       "        vertical-align: top;\n",
       "    }\n",
       "\n",
       "    .dataframe thead th {\n",
       "        text-align: right;\n",
       "    }\n",
       "</style>\n",
       "<table border=\"1\" class=\"dataframe\">\n",
       "  <thead>\n",
       "    <tr style=\"text-align: right;\">\n",
       "      <th></th>\n",
       "      <th>geometry</th>\n",
       "      <th>segnum</th>\n",
       "      <th>segndist</th>\n",
       "      <th>k</th>\n",
       "      <th>i</th>\n",
       "      <th>j</th>\n",
       "      <th>iseg</th>\n",
       "      <th>ireach</th>\n",
       "      <th>rlen</th>\n",
       "      <th>to_rno</th>\n",
       "      <th>from_rnos</th>\n",
       "      <th>to_div</th>\n",
       "      <th>ustrf</th>\n",
       "      <th>man</th>\n",
       "      <th>rwid</th>\n",
       "      <th>min_slope</th>\n",
       "      <th>rgrd</th>\n",
       "    </tr>\n",
       "    <tr>\n",
       "      <th>rno</th>\n",
       "      <th></th>\n",
       "      <th></th>\n",
       "      <th></th>\n",
       "      <th></th>\n",
       "      <th></th>\n",
       "      <th></th>\n",
       "      <th></th>\n",
       "      <th></th>\n",
       "      <th></th>\n",
       "      <th></th>\n",
       "      <th></th>\n",
       "      <th></th>\n",
       "      <th></th>\n",
       "      <th></th>\n",
       "      <th></th>\n",
       "      <th></th>\n",
       "      <th></th>\n",
       "    </tr>\n",
       "  </thead>\n",
       "  <tbody>\n",
       "    <tr>\n",
       "      <th>1</th>\n",
       "      <td>LINESTRING (1589889.333 5333340.791, 1589920.0...</td>\n",
       "      <td>13058095</td>\n",
       "      <td>0.004261</td>\n",
       "      <td>0</td>\n",
       "      <td>396</td>\n",
       "      <td>55</td>\n",
       "      <td>1</td>\n",
       "      <td>1</td>\n",
       "      <td>30.666800</td>\n",
       "      <td>2</td>\n",
       "      <td>{}</td>\n",
       "      <td>0</td>\n",
       "      <td>1.0</td>\n",
       "      <td>0.04</td>\n",
       "      <td>10.0</td>\n",
       "      <td>0.001</td>\n",
       "      <td>7.931353</td>\n",
       "    </tr>\n",
       "    <tr>\n",
       "      <th>2</th>\n",
       "      <td>LINESTRING (1589920.000 5333340.786, 1590054.2...</td>\n",
       "      <td>13058095</td>\n",
       "      <td>0.043592</td>\n",
       "      <td>0</td>\n",
       "      <td>396</td>\n",
       "      <td>56</td>\n",
       "      <td>1</td>\n",
       "      <td>2</td>\n",
       "      <td>252.418213</td>\n",
       "      <td>3</td>\n",
       "      <td>{1}</td>\n",
       "      <td>0</td>\n",
       "      <td>1.0</td>\n",
       "      <td>0.04</td>\n",
       "      <td>10.0</td>\n",
       "      <td>0.001</td>\n",
       "      <td>0.907762</td>\n",
       "    </tr>\n",
       "    <tr>\n",
       "      <th>3</th>\n",
       "      <td>LINESTRING (1590160.000 5333370.745, 1590294.1...</td>\n",
       "      <td>13058095</td>\n",
       "      <td>0.113735</td>\n",
       "      <td>0</td>\n",
       "      <td>396</td>\n",
       "      <td>57</td>\n",
       "      <td>1</td>\n",
       "      <td>3</td>\n",
       "      <td>252.426113</td>\n",
       "      <td>4</td>\n",
       "      <td>{2}</td>\n",
       "      <td>0</td>\n",
       "      <td>1.0</td>\n",
       "      <td>0.04</td>\n",
       "      <td>10.0</td>\n",
       "      <td>0.001</td>\n",
       "      <td>0.684987</td>\n",
       "    </tr>\n",
       "    <tr>\n",
       "      <th>4</th>\n",
       "      <td>LINESTRING (1590400.000 5333340.723, 1590414.1...</td>\n",
       "      <td>13058095</td>\n",
       "      <td>0.187329</td>\n",
       "      <td>0</td>\n",
       "      <td>396</td>\n",
       "      <td>58</td>\n",
       "      <td>1</td>\n",
       "      <td>4</td>\n",
       "      <td>277.254636</td>\n",
       "      <td>5</td>\n",
       "      <td>{3}</td>\n",
       "      <td>0</td>\n",
       "      <td>1.0</td>\n",
       "      <td>0.04</td>\n",
       "      <td>10.0</td>\n",
       "      <td>0.001</td>\n",
       "      <td>0.433135</td>\n",
       "    </tr>\n",
       "    <tr>\n",
       "      <th>5</th>\n",
       "      <td>LINESTRING (1590640.000 5333430.661, 1590654.0...</td>\n",
       "      <td>13058095</td>\n",
       "      <td>0.262646</td>\n",
       "      <td>0</td>\n",
       "      <td>396</td>\n",
       "      <td>59</td>\n",
       "      <td>1</td>\n",
       "      <td>5</td>\n",
       "      <td>264.836425</td>\n",
       "      <td>6</td>\n",
       "      <td>{4}</td>\n",
       "      <td>0</td>\n",
       "      <td>1.0</td>\n",
       "      <td>0.04</td>\n",
       "      <td>10.0</td>\n",
       "      <td>0.001</td>\n",
       "      <td>0.366318</td>\n",
       "    </tr>\n",
       "    <tr>\n",
       "      <th>...</th>\n",
       "      <td>...</td>\n",
       "      <td>...</td>\n",
       "      <td>...</td>\n",
       "      <td>...</td>\n",
       "      <td>...</td>\n",
       "      <td>...</td>\n",
       "      <td>...</td>\n",
       "      <td>...</td>\n",
       "      <td>...</td>\n",
       "      <td>...</td>\n",
       "      <td>...</td>\n",
       "      <td>...</td>\n",
       "      <td>...</td>\n",
       "      <td>...</td>\n",
       "      <td>...</td>\n",
       "      <td>...</td>\n",
       "      <td>...</td>\n",
       "    </tr>\n",
       "    <tr>\n",
       "      <th>40367</th>\n",
       "      <td>LINESTRING (1687260.565 5405040.000, 1687263.4...</td>\n",
       "      <td>11024563</td>\n",
       "      <td>0.421101</td>\n",
       "      <td>0</td>\n",
       "      <td>98</td>\n",
       "      <td>461</td>\n",
       "      <td>9510</td>\n",
       "      <td>2</td>\n",
       "      <td>113.039624</td>\n",
       "      <td>40368</td>\n",
       "      <td>{40366}</td>\n",
       "      <td>0</td>\n",
       "      <td>1.0</td>\n",
       "      <td>0.04</td>\n",
       "      <td>10.0</td>\n",
       "      <td>0.001</td>\n",
       "      <td>0.003925</td>\n",
       "    </tr>\n",
       "    <tr>\n",
       "      <th>40368</th>\n",
       "      <td>LINESTRING (1687360.000 5405007.154, 1687383.3...</td>\n",
       "      <td>11024563</td>\n",
       "      <td>0.767288</td>\n",
       "      <td>0</td>\n",
       "      <td>98</td>\n",
       "      <td>462</td>\n",
       "      <td>9510</td>\n",
       "      <td>3</td>\n",
       "      <td>231.819660</td>\n",
       "      <td>40369</td>\n",
       "      <td>{40367}</td>\n",
       "      <td>0</td>\n",
       "      <td>1.0</td>\n",
       "      <td>0.04</td>\n",
       "      <td>10.0</td>\n",
       "      <td>0.001</td>\n",
       "      <td>0.001000</td>\n",
       "    </tr>\n",
       "    <tr>\n",
       "      <th>40369</th>\n",
       "      <td>LINESTRING (1687548.326 5404902.159, 1687600.0...</td>\n",
       "      <td>11100009</td>\n",
       "      <td>0.045376</td>\n",
       "      <td>0</td>\n",
       "      <td>98</td>\n",
       "      <td>462</td>\n",
       "      <td>9511</td>\n",
       "      <td>1</td>\n",
       "      <td>55.096243</td>\n",
       "      <td>40370</td>\n",
       "      <td>{40368}</td>\n",
       "      <td>0</td>\n",
       "      <td>1.0</td>\n",
       "      <td>0.04</td>\n",
       "      <td>10.0</td>\n",
       "      <td>0.001</td>\n",
       "      <td>0.001483</td>\n",
       "    </tr>\n",
       "    <tr>\n",
       "      <th>40370</th>\n",
       "      <td>LINESTRING (1687600.000 5404883.043, 1687824.4...</td>\n",
       "      <td>11100009</td>\n",
       "      <td>0.287869</td>\n",
       "      <td>0</td>\n",
       "      <td>98</td>\n",
       "      <td>463</td>\n",
       "      <td>9511</td>\n",
       "      <td>2</td>\n",
       "      <td>239.341508</td>\n",
       "      <td>40371</td>\n",
       "      <td>{40369}</td>\n",
       "      <td>0</td>\n",
       "      <td>1.0</td>\n",
       "      <td>0.04</td>\n",
       "      <td>10.0</td>\n",
       "      <td>0.001</td>\n",
       "      <td>0.001000</td>\n",
       "    </tr>\n",
       "    <tr>\n",
       "      <th>40371</th>\n",
       "      <td>LINESTRING (1688290.751 5404800.000, 1688320.0...</td>\n",
       "      <td>11100010</td>\n",
       "      <td>0.601331</td>\n",
       "      <td>0</td>\n",
       "      <td>98</td>\n",
       "      <td>465</td>\n",
       "      <td>9512</td>\n",
       "      <td>1</td>\n",
       "      <td>34.521704</td>\n",
       "      <td>0</td>\n",
       "      <td>{40289, 40370, 35420}</td>\n",
       "      <td>0</td>\n",
       "      <td>1.0</td>\n",
       "      <td>0.04</td>\n",
       "      <td>10.0</td>\n",
       "      <td>0.001</td>\n",
       "      <td>0.003590</td>\n",
       "    </tr>\n",
       "  </tbody>\n",
       "</table>\n",
       "<p>40371 rows × 17 columns</p>\n",
       "</div>"
      ],
      "text/plain": [
       "                                                geometry    segnum  segndist  \\\n",
       "rno                                                                            \n",
       "1      LINESTRING (1589889.333 5333340.791, 1589920.0...  13058095  0.004261   \n",
       "2      LINESTRING (1589920.000 5333340.786, 1590054.2...  13058095  0.043592   \n",
       "3      LINESTRING (1590160.000 5333370.745, 1590294.1...  13058095  0.113735   \n",
       "4      LINESTRING (1590400.000 5333340.723, 1590414.1...  13058095  0.187329   \n",
       "5      LINESTRING (1590640.000 5333430.661, 1590654.0...  13058095  0.262646   \n",
       "...                                                  ...       ...       ...   \n",
       "40367  LINESTRING (1687260.565 5405040.000, 1687263.4...  11024563  0.421101   \n",
       "40368  LINESTRING (1687360.000 5405007.154, 1687383.3...  11024563  0.767288   \n",
       "40369  LINESTRING (1687548.326 5404902.159, 1687600.0...  11100009  0.045376   \n",
       "40370  LINESTRING (1687600.000 5404883.043, 1687824.4...  11100009  0.287869   \n",
       "40371  LINESTRING (1688290.751 5404800.000, 1688320.0...  11100010  0.601331   \n",
       "\n",
       "       k    i    j  iseg  ireach        rlen  to_rno              from_rnos  \\\n",
       "rno                                                                           \n",
       "1      0  396   55     1       1   30.666800       2                     {}   \n",
       "2      0  396   56     1       2  252.418213       3                    {1}   \n",
       "3      0  396   57     1       3  252.426113       4                    {2}   \n",
       "4      0  396   58     1       4  277.254636       5                    {3}   \n",
       "5      0  396   59     1       5  264.836425       6                    {4}   \n",
       "...   ..  ...  ...   ...     ...         ...     ...                    ...   \n",
       "40367  0   98  461  9510       2  113.039624   40368                {40366}   \n",
       "40368  0   98  462  9510       3  231.819660   40369                {40367}   \n",
       "40369  0   98  462  9511       1   55.096243   40370                {40368}   \n",
       "40370  0   98  463  9511       2  239.341508   40371                {40369}   \n",
       "40371  0   98  465  9512       1   34.521704       0  {40289, 40370, 35420}   \n",
       "\n",
       "       to_div  ustrf   man  rwid  min_slope      rgrd  \n",
       "rno                                                    \n",
       "1           0    1.0  0.04  10.0      0.001  7.931353  \n",
       "2           0    1.0  0.04  10.0      0.001  0.907762  \n",
       "3           0    1.0  0.04  10.0      0.001  0.684987  \n",
       "4           0    1.0  0.04  10.0      0.001  0.433135  \n",
       "5           0    1.0  0.04  10.0      0.001  0.366318  \n",
       "...       ...    ...   ...   ...        ...       ...  \n",
       "40367       0    1.0  0.04  10.0      0.001  0.003925  \n",
       "40368       0    1.0  0.04  10.0      0.001  0.001000  \n",
       "40369       0    1.0  0.04  10.0      0.001  0.001483  \n",
       "40370       0    1.0  0.04  10.0      0.001  0.001000  \n",
       "40371       0    1.0  0.04  10.0      0.001  0.003590  \n",
       "\n",
       "[40371 rows x 17 columns]"
      ]
     },
     "execution_count": 10,
     "metadata": {},
     "output_type": "execute_result"
    }
   ],
   "source": [
    "ngwf.reaches"
   ]
  },
  {
   "cell_type": "code",
   "execution_count": 15,
   "id": "relevant-divide",
   "metadata": {},
   "outputs": [],
   "source": [
    "# no rno=0 so missing labels error, floats because of nans\n",
    "top=gwf.dis.top.array\n",
    "botm=gwf.dis.botm.array"
   ]
  },
  {
   "cell_type": "code",
   "execution_count": null,
   "id": "athletic-trance",
   "metadata": {},
   "outputs": [],
   "source": [
    "mindz=0.001\n",
    "loop=0\n",
    "df=ngwf.reaches.copy()\n",
    "rdf=ngwf.reaches.copy()\n",
    "cont=True\n",
    "while cont:   \n",
    "    loop=loop+1\n",
    "    chg=0\n",
    "    for idx,r in df.iterrows(): \n",
    "        ij=(int(r['i']),int(r['j']))\n",
    "        trno=int(r['to_rno'])\n",
    "        rdf.loc[idx,'rtp']=top[ij]\n",
    "        rdic={}\n",
    "        if trno!=0:\n",
    "            #print(idx,rdf.loc[idx,'rtp'],top[i,j],[b[i,j] for b in botm])    \n",
    "            titj=(int(df.loc[trno,'i']),int(df.loc[trno,'j']))\n",
    "            # build list of props moving downstream\n",
    "            while trno!=0 and top[titj]>=top[ij]-mindz:\n",
    "                dz=top[titj]-(top[ij]-mindz)\n",
    "                if titj not in rdic.keys():\n",
    "                    rdic[titj]={'nz':[dz],'rno':[trno]}\n",
    "                else:\n",
    "                    rdic[titj]['nz'].append(dz)\n",
    "                    rdic[titj]['rno'].append(trno)\n",
    "                # set next reach\n",
    "                trno=df.loc[trno,'to_rno']\n",
    "                if trno!=0:\n",
    "                    titj=(int(df.loc[trno,'i']),int(df.loc[trno,'j']))\n",
    "                \n",
    "            # now adjust each in list\n",
    "            if len(rdic.keys())>0:\n",
    "                for titj in rdic.keys():\n",
    "                    dz=np.max(rdic[titj]['nz'])\n",
    "                    top[titj]=np.max([top[titj]-dz,mindz])\n",
    "                    for rno in rdic[titj]['rno']:\n",
    "                        rdf.loc[rno,'rtp']=top[titj]\n",
    "                    for b in range(0,botm.shape[0]):\n",
    "                        botm[b][titj]=botm[b][titj]-dz\n",
    "        chg=chg+len(rdic.keys())\n",
    "    if chg==0:\n",
    "        cont=False\n",
    "    else:\n",
    "        print('{} changed in loop {}'.format(chg,loop))"
   ]
  },
  {
   "cell_type": "code",
   "execution_count": null,
   "id": "thirty-finish",
   "metadata": {},
   "outputs": [],
   "source": [
    "import matplotlib.pyplot as plt\n",
    "plt.imshow(top)\n",
    "plt.colorbar()"
   ]
  },
  {
   "cell_type": "code",
   "execution_count": null,
   "id": "dominant-constitutional",
   "metadata": {},
   "outputs": [],
   "source": [
    "plt.imshow(gwf.dis.top.array-top)\n",
    "plt.colorbar()"
   ]
  },
  {
   "cell_type": "code",
   "execution_count": null,
   "id": "static-workstation",
   "metadata": {},
   "outputs": [],
   "source": [
    "rdf.loc[:,'rbth']=2"
   ]
  },
  {
   "cell_type": "code",
   "execution_count": null,
   "id": "weighted-penguin",
   "metadata": {},
   "outputs": [],
   "source": [
    "f=gwf.dis.top.get_file_entry().split(\"'\")[1]\n",
    "fpth=os.path.join(sim_ws+'_sfr',f)\n",
    "np.savetxt(f,top)"
   ]
  },
  {
   "cell_type": "code",
   "execution_count": null,
   "id": "guilty-zealand",
   "metadata": {},
   "outputs": [],
   "source": [
    "for b in range(0,botm.shape[0]):\n",
    "    f=gwf.dis.botm[b].fname\n",
    "    fpth=os.path.join(sim_ws+'_sfr',f)\n",
    "    np.savetxt(f,botm[b])"
   ]
  },
  {
   "cell_type": "code",
   "execution_count": null,
   "id": "comic-wonder",
   "metadata": {},
   "outputs": [],
   "source": [
    "ngwf.reaches=rdf"
   ]
  },
  {
   "cell_type": "code",
   "execution_count": null,
   "id": "danish-front",
   "metadata": {},
   "outputs": [],
   "source": [
    "ngwf.set_reach_data_from_array('rhk',gwf.npf.k.array[0])"
   ]
  },
  {
   "cell_type": "code",
   "execution_count": null,
   "id": "national-victor",
   "metadata": {},
   "outputs": [],
   "source": [
    "n.segments.to_csv(os.path.join(sim_ws+'_sfr',model_name+'_znseg_mf6rch.csv'))"
   ]
  },
  {
   "cell_type": "code",
   "execution_count": null,
   "id": "welsh-princess",
   "metadata": {},
   "outputs": [],
   "source": [
    "mask=[s for s in n.segments.index if (len(n.segments.loc[s,'from_segnums'])==0) & (n.segments.loc[s,'to_segnum']==0)]"
   ]
  },
  {
   "cell_type": "code",
   "execution_count": null,
   "id": "appointed-leeds",
   "metadata": {},
   "outputs": [],
   "source": [
    "len(mask)"
   ]
  },
  {
   "cell_type": "code",
   "execution_count": null,
   "id": "regular-juvenile",
   "metadata": {},
   "outputs": [],
   "source": [
    "n.segments.drop(mask,inplace=True)"
   ]
  },
  {
   "cell_type": "code",
   "execution_count": null,
   "id": "quantitative-evening",
   "metadata": {},
   "outputs": [],
   "source": [
    "\n",
    "\n",
    "# There are two methods to format the PACKAGEDATA:\n",
    "ngwf.flopy_packagedata\n",
    "ngwf.write_packagedata(os.path.join(sim_ws+'_sfr',model_name+'.sfr0.reach.dat'))\n",
    "\n",
    "#Similar with CONNECTIONDATA:\n",
    "ngwf.flopy_connectiondata\n",
    "ngwf.write_connectiondata(os.path.join(sim_ws+'_sfr',model_name+'.sfr0.connection.dat'))\n"
   ]
  },
  {
   "cell_type": "code",
   "execution_count": null,
   "id": "southwest-weather",
   "metadata": {},
   "outputs": [],
   "source": [
    "sfr=flopy.mf6.ModflowGwfsfr(gwf,packagedata={'filename':model_name+'.sfr0.reach.dat'},\n",
    "                            connectiondata={'filename':model_name+'.sfr0.connection.dat'},\n",
    "                           nreaches=len(ngwf.reaches),budget_filerecord=model_name + \"_sfr.bud\",\n",
    "                            save_flows=True)\n",
    "#gwf.register_package(sfr)\n",
    "sfr.write()"
   ]
  },
  {
   "cell_type": "code",
   "execution_count": null,
   "id": "informational-celebrity",
   "metadata": {},
   "outputs": [],
   "source": [
    "model_name"
   ]
  },
  {
   "cell_type": "code",
   "execution_count": null,
   "id": "twenty-board",
   "metadata": {},
   "outputs": [],
   "source": []
  },
  {
   "cell_type": "code",
   "execution_count": null,
   "id": "southern-commodity",
   "metadata": {},
   "outputs": [],
   "source": []
  },
  {
   "cell_type": "code",
   "execution_count": null,
   "id": "naval-michael",
   "metadata": {},
   "outputs": [],
   "source": [
    "gwf.write()"
   ]
  },
  {
   "cell_type": "code",
   "execution_count": null,
   "id": "surprised-regular",
   "metadata": {
    "scrolled": true
   },
   "outputs": [],
   "source": [
    "help(ngwf)"
   ]
  },
  {
   "cell_type": "code",
   "execution_count": null,
   "id": "composite-washington",
   "metadata": {},
   "outputs": [],
   "source": []
  },
  {
   "cell_type": "markdown",
   "id": "alike-warrant",
   "metadata": {},
   "source": [
    "# write shapefile, but not sfr info from grid intersection"
   ]
  },
  {
   "cell_type": "code",
   "execution_count": null,
   "id": "brief-officer",
   "metadata": {},
   "outputs": [],
   "source": [
    "swn.file.gdf_to_shapefile(n.segments, 'segments.shp')"
   ]
  }
 ],
 "metadata": {
  "kernelspec": {
   "display_name": "Python 3",
   "language": "python",
   "name": "python3"
  },
  "language_info": {
   "codemirror_mode": {
    "name": "ipython",
    "version": 3
   },
   "file_extension": ".py",
   "mimetype": "text/x-python",
   "name": "python",
   "nbconvert_exporter": "python",
   "pygments_lexer": "ipython3",
   "version": "3.7.9"
  }
 },
 "nbformat": 4,
 "nbformat_minor": 5
}
